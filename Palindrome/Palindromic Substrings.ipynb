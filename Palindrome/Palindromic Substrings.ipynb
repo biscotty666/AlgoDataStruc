{
 "cells": [
  {
   "cell_type": "markdown",
   "id": "9e5d5d02-98f2-4f80-afa5-afeff3bf7ac8",
   "metadata": {},
   "source": [
    "# Palindromic Substrings"
   ]
  },
  {
   "cell_type": "markdown",
   "id": "e8d5c210-0432-4ff3-a5e6-1f73d9ded20b",
   "metadata": {},
   "source": [
    "## Problem\n",
    "\n",
    "Given a string $s$, return the number of palindromic substrings in it."
   ]
  },
  {
   "cell_type": "markdown",
   "id": "8e75fd30-d783-4b1a-b478-e58cbf3b8a67",
   "metadata": {},
   "source": [
    "### Example 1\n",
    "\n",
    "```\n",
    "Input: s = 'abc'\n",
    "Output: 3\n",
    "Explanation: 3 substrings \"a\", \"b\", \"c\""
   ]
  },
  {
   "cell_type": "markdown",
   "id": "dfe55cd6-c921-49f7-98e8-d5abc92f3fb1",
   "metadata": {},
   "source": [
    "### Example 2\n",
    "```\n",
    "Input: s = 'aaa'\n",
    "Output: 3\n",
    "Explanation: 6 substrings \"a\", \"a\", \"a\", \"aa\", \"aa\", \"aaa\"\n",
    "```"
   ]
  },
  {
   "cell_type": "markdown",
   "id": "69cad280-0eb1-45eb-9233-0149a6b54432",
   "metadata": {},
   "source": [
    "## Brute Force\n",
    "\n",
    "Begin with the first letter and check each combination forward, eg check a, then ab, then abc, then b, then bc, then c.\n",
    "\n",
    "There are $n^2$ sets and another $n$ is required to check for being a palindrome, so this results in O$(n^3)$.\n",
    "\n",
    "Instead we can check Left and Right from each position and expand outward, checking only the Left and Right positions, counting a match whenever they are equal. "
   ]
  },
  {
   "cell_type": "code",
   "execution_count": 7,
   "id": "156a105d-7e34-4957-98f2-eac7a66adede",
   "metadata": {},
   "outputs": [],
   "source": [
    "def countPalindromes(s: str, l: int, r: int) -> int:\n",
    "    res = 0\n",
    "    while l >= 0 and r < len(s) and s[l] == s[r]:\n",
    "        res += 1\n",
    "        l -= 1\n",
    "        r += 1\n",
    "    return res"
   ]
  },
  {
   "cell_type": "code",
   "execution_count": 12,
   "id": "e89ea471-ef91-4c21-a87d-5e307bacc413",
   "metadata": {},
   "outputs": [],
   "source": [
    "def countSubstrings(s: str) -> int:\n",
    "    res = 0\n",
    "    for i in range(len(s)):\n",
    "        res += countPalindromes(s, i, i)\n",
    "        res += countPalindromes(s, i, i+1)\n",
    "    return res"
   ]
  },
  {
   "cell_type": "code",
   "execution_count": 13,
   "id": "f24f6b68-ede6-43b8-b601-47fefada9824",
   "metadata": {},
   "outputs": [],
   "source": [
    "s = \"abc\""
   ]
  },
  {
   "cell_type": "code",
   "execution_count": 14,
   "id": "c6bd4d68-20d8-4830-bb53-e7cd098e5309",
   "metadata": {},
   "outputs": [
    {
     "data": {
      "text/plain": [
       "3"
      ]
     },
     "execution_count": 14,
     "metadata": {},
     "output_type": "execute_result"
    }
   ],
   "source": [
    "countSubstrings(s)"
   ]
  },
  {
   "cell_type": "code",
   "execution_count": 15,
   "id": "b4e2b3b5-deac-451f-a419-f501bb4b01d6",
   "metadata": {},
   "outputs": [],
   "source": [
    "s = \"aaa\""
   ]
  },
  {
   "cell_type": "code",
   "execution_count": 16,
   "id": "ac8d1a87-17d7-4f38-b468-2f4ee3d9069e",
   "metadata": {},
   "outputs": [
    {
     "data": {
      "text/plain": [
       "6"
      ]
     },
     "execution_count": 16,
     "metadata": {},
     "output_type": "execute_result"
    }
   ],
   "source": [
    "countSubstrings(s)"
   ]
  },
  {
   "cell_type": "code",
   "execution_count": null,
   "id": "72a03854-227f-4e11-ba97-2283c8a83a5c",
   "metadata": {},
   "outputs": [],
   "source": []
  }
 ],
 "metadata": {
  "kernelspec": {
   "display_name": "Python 3 (ipykernel)",
   "language": "python",
   "name": "python3"
  },
  "language_info": {
   "codemirror_mode": {
    "name": "ipython",
    "version": 3
   },
   "file_extension": ".py",
   "mimetype": "text/x-python",
   "name": "python",
   "nbconvert_exporter": "python",
   "pygments_lexer": "ipython3",
   "version": "3.12.1"
  }
 },
 "nbformat": 4,
 "nbformat_minor": 5
}
