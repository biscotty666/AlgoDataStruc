{
 "cells": [
  {
   "cell_type": "markdown",
   "id": "b5bbe0c8-5efb-46aa-8679-995be1468106",
   "metadata": {},
   "source": [
    "# Test 1"
   ]
  },
  {
   "cell_type": "markdown",
   "id": "2611f1f9-32b8-43c1-8a5b-40c8b189fd9b",
   "metadata": {},
   "source": [
    "# Test Header"
   ]
  },
  {
   "cell_type": "markdown",
   "id": "b20b4ce7-58de-448a-8eb8-c454c90f799e",
   "metadata": {},
   "source": [
    "A message containing letters from `A-Z` can be encoded into numbers using the following mapping:\n",
    "\n",
    "```\n",
    "'A' -> \"1\"\n",
    "'B' -> \"2\"\n",
    "...\n",
    "'Z' -> \"26\"\n",
    "```\n",
    "\n",
    "To decode an encoded message, all the digits must be grouped then mapped back into letters using the reverse of the mapping above (there may be multiple ways). For example, `\"11106\"` can be mapped into:\n",
    "\n",
    "- `\"AAJF\"` with the grouping `(1 1 10 6)`\n",
    "- `\"KJF\"` with the grouping `(11 10 6)`\n",
    "- \n",
    "Note that the grouping `(1 11 06)` is invalid because \"06\" cannot be mapped into `'F'` since `\"6\"` is different from `\"06\"`.\n",
    "\n",
    "Given a string s containing only digits, return the number of ways to decode it.\n",
    "\n",
    "The test cases are generated so that the answer fits in a 32-bit integer.\n",
    "\n",
    " \n",
    "\n",
    "Example 1:\n",
    "```\n",
    "Input: s = \"12\"\n",
    "Output: 2\n",
    "Explanation: \"12\" could be decoded as \"AB\" (1 2) or \"L\" (12).\n",
    "```\n",
    "\n",
    "Example 2:\n",
    "\n",
    "```\n",
    "Input: s = \"226\"\n",
    "Output: 3\n",
    "Explanation: \"226\" could be decoded as \"BZ\" (2 26), \"VF\" (22 6), or \"BBF\" (2 2 6).\n",
    "```\n",
    "\n",
    "Example 3:\n",
    "\n",
    "```\n",
    "Input: s = \"06\"\n",
    "Output: 0\n",
    "Explanation: \"06\" cannot be mapped to \"F\" because of the leading zero (\"6\" is different from \"06\").\n",
    "``` \n",
    "\n",
    "Constraints:\n",
    "\n",
    "```\n",
    "1 <= s.length <= 100\n",
    "s contains only digits and may contain leading zero(s).\n",
    "```"
   ]
  },
  {
   "cell_type": "markdown",
   "id": "bb0813ef-69e3-4107-829d-333eb1bb158e",
   "metadata": {},
   "source": [
    "<img src='DW1.png' />\n",
    "<img src='DW2.png' />\n",
    "<img src='DW3.png' />"
   ]
  },
  {
   "cell_type": "code",
   "execution_count": 1,
   "id": "99234214-65e8-4f8b-8835-05d4625f58a1",
   "metadata": {},
   "outputs": [
    {
     "name": "stdout",
     "output_type": "stream",
     "text": [
      "{3: 1}\n"
     ]
    }
   ],
   "source": [
    "s = \"226\"\n",
    "print({ len(s): 1})"
   ]
  },
  {
   "cell_type": "markdown",
   "id": "70d849d2-6d93-4bc8-b3c3-523a149ac568",
   "metadata": {},
   "source": [
    "Recursive Caching Solution\n",
    "\n",
    "O$(n)$ time and memory"
   ]
  },
  {
   "cell_type": "code",
   "execution_count": 9,
   "id": "de811e75-aa69-4a7b-a57f-51d2d27e26d9",
   "metadata": {},
   "outputs": [],
   "source": [
    "class Solution:\n",
    "    def numDecodings(self, s: str) -> int:\n",
    "        dp = { len(s): 1 }\n",
    "        # The base case for an empty string\n",
    "\n",
    "        def dfs(i):\n",
    "            if i in dp: \n",
    "                # the postition has already been cached or we have reached the base case\n",
    "                return dp[i]\n",
    "            if s[i] == \"0\":\n",
    "                # no encoding starts with 0\n",
    "                return 0\n",
    "            res = dfs(i + 1)\n",
    "            # Now check for valid 2-digit encodings\n",
    "            if (i + 1 < len(s) and (s[i] == \"1\" or s[i] == \"2\" and s[i + 1] in \"0123456\")):\n",
    "                res += dfs(i + 2)\n",
    "            dp[i] = res\n",
    "            return res\n",
    "        return dfs(0)\n",
    "    "
   ]
  },
  {
   "cell_type": "code",
   "execution_count": 10,
   "id": "d7b51251-8c4e-40cf-9ce8-bdd2175d5ede",
   "metadata": {},
   "outputs": [
    {
     "data": {
      "text/plain": [
       "3"
      ]
     },
     "execution_count": 10,
     "metadata": {},
     "output_type": "execute_result"
    }
   ],
   "source": [
    "s = \"226\"\n",
    "sol = Solution()\n",
    "sol.numDecodings(s)"
   ]
  },
  {
   "cell_type": "code",
   "execution_count": 7,
   "id": "b96d00f5-cdfa-4017-9b09-14aa0ec3b750",
   "metadata": {},
   "outputs": [
    {
     "data": {
      "text/plain": [
       "2"
      ]
     },
     "execution_count": 7,
     "metadata": {},
     "output_type": "execute_result"
    }
   ],
   "source": [
    "s = \"12\"\n",
    "sol.numDecodings(s)"
   ]
  },
  {
   "cell_type": "code",
   "execution_count": 8,
   "id": "8908799f-e30b-4764-8fce-bb464b54d53a",
   "metadata": {},
   "outputs": [
    {
     "data": {
      "text/plain": [
       "0"
      ]
     },
     "execution_count": 8,
     "metadata": {},
     "output_type": "execute_result"
    }
   ],
   "source": [
    "s = \"06\"\n",
    "sol.numDecodings(s)"
   ]
  },
  {
   "cell_type": "markdown",
   "id": "ceffcec2-2d91-44a2-8afd-0a10bfcfcb35",
   "metadata": {},
   "source": [
    "Dynamic Programming Solution"
   ]
  },
  {
   "cell_type": "code",
   "execution_count": 42,
   "id": "befe8592-99a4-4d88-9db4-3c89f771f89e",
   "metadata": {},
   "outputs": [],
   "source": [
    "class Solution:\n",
    "    def numDecodings(self, s: str) -> int:\n",
    "        dp = { len(s): 1 }\n",
    "        print(dp)\n",
    "\n",
    "        for i in range(len(s) - 1, -1, -1):\n",
    "            print(f'{i=}, {s[i]=}')\n",
    "            if s[i] == \"0\":\n",
    "                dp[i] = 0\n",
    "                print(f\"if1: {dp}\")\n",
    "            else:\n",
    "                dp[i] = dp[i + 1]\n",
    "                print(f\"else: {dp}\")\n",
    "\n",
    "            if (i + 1 < len(s) and (s[i] == \"1\" or s[i] == \"2\" and s[i + 1] in \"0123456\")):\n",
    "                dp[i] += dp[i + 2]\n",
    "                print(f\"if2: {dp}\")\n",
    "\n",
    "        return dp[0]\n",
    "                                    \n",
    "            "
   ]
  },
  {
   "cell_type": "code",
   "execution_count": 43,
   "id": "eb160132-836e-4d72-ae27-565e1eeffe28",
   "metadata": {},
   "outputs": [
    {
     "name": "stdout",
     "output_type": "stream",
     "text": [
      "{3: 1}\n",
      "i=2, s[i]='6'\n",
      "else: {3: 1, 2: 1}\n",
      "i=1, s[i]='2'\n",
      "else: {3: 1, 2: 1, 1: 1}\n",
      "if2: {3: 1, 2: 1, 1: 2}\n",
      "i=0, s[i]='2'\n",
      "else: {3: 1, 2: 1, 1: 2, 0: 2}\n",
      "if2: {3: 1, 2: 1, 1: 2, 0: 3}\n"
     ]
    },
    {
     "data": {
      "text/plain": [
       "3"
      ]
     },
     "execution_count": 43,
     "metadata": {},
     "output_type": "execute_result"
    }
   ],
   "source": [
    "s = \"226\"\n",
    "sol = Solution()\n",
    "sol.numDecodings(s)"
   ]
  },
  {
   "cell_type": "code",
   "execution_count": 44,
   "id": "b454a173-8c5a-4fa7-b716-abfac0a739ae",
   "metadata": {},
   "outputs": [
    {
     "name": "stdout",
     "output_type": "stream",
     "text": [
      "{2: 1}\n",
      "i=1, s[i]='2'\n",
      "else: {2: 1, 1: 1}\n",
      "i=0, s[i]='1'\n",
      "else: {2: 1, 1: 1, 0: 1}\n",
      "if2: {2: 1, 1: 1, 0: 2}\n"
     ]
    },
    {
     "data": {
      "text/plain": [
       "2"
      ]
     },
     "execution_count": 44,
     "metadata": {},
     "output_type": "execute_result"
    }
   ],
   "source": [
    "s = \"12\"\n",
    "sol.numDecodings(s)"
   ]
  },
  {
   "cell_type": "code",
   "execution_count": 45,
   "id": "61593005-d4a9-4ac6-ad80-59e65f953ebc",
   "metadata": {},
   "outputs": [
    {
     "name": "stdout",
     "output_type": "stream",
     "text": [
      "{2: 1}\n",
      "i=1, s[i]='6'\n",
      "else: {2: 1, 1: 1}\n",
      "i=0, s[i]='0'\n",
      "if1: {2: 1, 1: 1, 0: 0}\n"
     ]
    },
    {
     "data": {
      "text/plain": [
       "0"
      ]
     },
     "execution_count": 45,
     "metadata": {},
     "output_type": "execute_result"
    }
   ],
   "source": [
    "s = \"06\"\n",
    "sol.numDecodings(s)"
   ]
  },
  {
   "cell_type": "code",
   "execution_count": null,
   "id": "ce19b7ab-3170-48da-bb06-204a739c30a9",
   "metadata": {},
   "outputs": [],
   "source": []
  }
 ],
 "metadata": {
  "kernelspec": {
   "display_name": "Python 3 (ipykernel)",
   "language": "python",
   "name": "python3"
  },
  "language_info": {
   "codemirror_mode": {
    "name": "ipython",
    "version": 3
   },
   "file_extension": ".py",
   "mimetype": "text/x-python",
   "name": "python",
   "nbconvert_exporter": "python",
   "pygments_lexer": "ipython3",
   "version": "3.12.1"
  }
 },
 "nbformat": 4,
 "nbformat_minor": 5
}
