{
 "cells": [
  {
   "cell_type": "markdown",
   "metadata": {},
   "source": [
    "# Breadth First Search\n",
    "\n",
    "Time complexity: O(|V| + |E|) where |V| and |E| are the number of nodes and edges, respectively.\n",
    "\n",
    "Applications:\n",
    "\n",
    "- shortest path\n",
    "- cycle detection\n",
    "- Ford-Fulkerson algorithm for max flow\n",
    "- minimum spanning tree\n",
    "\n",
    "[Source1](https://www.youtube.com/watch?v=YtD2KGRdn3s)\n",
    "[Source2](https://favtutor.com/blogs/breadth-first-search-python)\n",
    "\n",
    "<img src=\"DictionaryGraph.png\" width=800 height=400 />"
   ]
  },
  {
   "cell_type": "code",
   "execution_count": 13,
   "metadata": {},
   "outputs": [],
   "source": [
    "data = {\n",
    "    '0': ['3', '5', '9'],\n",
    "    '1': ['6', '7', '4'],\n",
    "    '2': ['10', '5'],\n",
    "    '3': ['0'],\n",
    "    '4': ['1', '5', '8'],\n",
    "    '5': ['2', '0', '4'],\n",
    "    '6': ['1'],\n",
    "    '7': ['1'],\n",
    "    '8': ['4'],\n",
    "    '9': ['0'],\n",
    "    '10': ['2'],\n",
    "}"
   ]
  },
  {
   "cell_type": "code",
   "execution_count": 3,
   "metadata": {},
   "outputs": [],
   "source": [
    "def bfs2(graph: dict, startNode: str) -> list:\n",
    "    visitedNodes = []\n",
    "    queue = [startNode]\n",
    "    \n",
    "    while queue:\n",
    "        currentNode = queue.pop(0)\n",
    "        visitedNodes.append(currentNode)\n",
    "        for neighbor in graph[currentNode]:\n",
    "            if neighbor not in visitedNodes:\n",
    "                queue.append(neighbor)\n",
    "                # visitedNodes.append(neighbor)\n",
    "                \n",
    "    return visitedNodes\n"
   ]
  },
  {
   "cell_type": "code",
   "execution_count": 4,
   "metadata": {},
   "outputs": [
    {
     "name": "stdout",
     "output_type": "stream",
     "text": [
      "['0', '3', '5', '9', '2', '8', '4', '8', '10', '4', '1', '1', '6', '7', '6', '7']\n"
     ]
    }
   ],
   "source": [
    "print(bfs2(data, '0'))"
   ]
  },
  {
   "cell_type": "code",
   "execution_count": 15,
   "metadata": {},
   "outputs": [],
   "source": [
    "visited = []\n",
    "queue = []\n",
    "\n",
    "def bfs(graph:dict, node:str, visited:list) -> list:\n",
    "    visited.append(node)\n",
    "    queue.append(node)\n",
    "    \n",
    "    while queue:\n",
    "        current = queue.pop(0)\n",
    "        \n",
    "        for neighbor in graph[current]:\n",
    "            if neighbor not in visited:\n",
    "                visited.append(neighbor)\n",
    "                queue.append(neighbor)\n",
    "\n",
    "    return visited\n",
    "    \n",
    "    "
   ]
  },
  {
   "cell_type": "code",
   "execution_count": 16,
   "metadata": {},
   "outputs": [
    {
     "data": {
      "text/plain": [
       "['0', '3', '5', '9', '2', '4', '10', '1', '8', '6', '7']"
      ]
     },
     "execution_count": 16,
     "metadata": {},
     "output_type": "execute_result"
    }
   ],
   "source": [
    "bfs(data, '0', visited)"
   ]
  },
  {
   "cell_type": "code",
   "execution_count": 26,
   "metadata": {},
   "outputs": [],
   "source": [
    "\n",
    "def bfs_sp(graph:dict, start:str, target: str) -> list:\n",
    "    visited = []\n",
    "    queue = [[start]]\n",
    "    \n",
    "    if start == target:\n",
    "        print(\"Already there\")\n",
    "        return\n",
    "    \n",
    "    \n",
    "    while queue:\n",
    "        path = queue.pop(0)\n",
    "        node = path[-1]\n",
    "        \n",
    "        if node not in visited:\n",
    "            neighbors = graph[node]\n",
    "            \n",
    "            for neighbor in neighbors:\n",
    "                new_path = list(path)\n",
    "                new_path.append(neighbor)\n",
    "                queue.append(new_path)\n",
    "                \n",
    "                if neighbor == target:\n",
    "                    print(\"Shortest path = \", *new_path)\n",
    "                    return\n",
    "            visited.append(node)\n",
    "        \n",
    "    print(\"Connecting path not found\")\n",
    "    return\n"
   ]
  },
  {
   "cell_type": "code",
   "execution_count": 27,
   "metadata": {},
   "outputs": [
    {
     "name": "stdout",
     "output_type": "stream",
     "text": [
      "Shortest path =  0 5 4\n"
     ]
    }
   ],
   "source": [
    "bfs_sp(data, '0', '4')"
   ]
  }
 ],
 "metadata": {
  "kernelspec": {
   "display_name": "base",
   "language": "python",
   "name": "python3"
  },
  "language_info": {
   "codemirror_mode": {
    "name": "ipython",
    "version": 3
   },
   "file_extension": ".py",
   "mimetype": "text/x-python",
   "name": "python",
   "nbconvert_exporter": "python",
   "pygments_lexer": "ipython3",
   "version": "3.11.5"
  }
 },
 "nbformat": 4,
 "nbformat_minor": 2
}
