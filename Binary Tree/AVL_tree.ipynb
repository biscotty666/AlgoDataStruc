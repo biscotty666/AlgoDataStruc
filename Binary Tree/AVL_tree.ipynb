{
 "cells": [
  {
   "cell_type": "markdown",
   "metadata": {},
   "source": [
    "# AVL Tree\n",
    "\n",
    "[G4G](https://www.geeksforgeeks.org/insertion-in-an-avl-tree/)"
   ]
  },
  {
   "cell_type": "code",
   "execution_count": 24,
   "metadata": {},
   "outputs": [],
   "source": [
    "from dataclasses import dataclass\n",
    "\n",
    "@dataclass\n",
    "class Node(object):\n",
    "    val: int\n",
    "    left: 'Node' = None\n",
    "    right: 'Node' = None\n",
    "    height: int = 1\n",
    "        "
   ]
  },
  {
   "cell_type": "code",
   "execution_count": 63,
   "metadata": {},
   "outputs": [],
   "source": [
    "# AVL tree class which supports the  \n",
    "# Insert operation \n",
    "class AVL_Tree(object): \n",
    "  \n",
    "    # Recursive function to insert key in  \n",
    "    # subtree rooted with node and returns \n",
    "    # new root of subtree. \n",
    "    def insert(self, root, key): \n",
    "      \n",
    "        # Step 1 - Perform normal BST \n",
    "        if not root: \n",
    "            return Node(key) \n",
    "        elif key < root.val: \n",
    "            root.left = self.insert(root.left, key) \n",
    "        else: \n",
    "            root.right = self.insert(root.right, key) \n",
    "  \n",
    "        # Step 2 - Update the height of the  \n",
    "        # ancestor node \n",
    "        root.height = 1 + max(self.get_height(root.left), \n",
    "                           self.get_height(root.right)) \n",
    "  \n",
    "        # Step 3 - Get the balance factor \n",
    "        balance = self.get_balance(root) \n",
    "  \n",
    "        # Step 4 - If the node is unbalanced,  \n",
    "        # then try out the 4 cases \n",
    "        # Case 1 - Left Left \n",
    "        if balance > 1 and key < root.left.val: \n",
    "            return self.right_rotate(root) \n",
    "  \n",
    "        # Case 2 - Right Right \n",
    "        if balance < -1 and key > root.right.val: \n",
    "            return self.left_rotate(root) \n",
    "  \n",
    "        # Case 3 - Left Right \n",
    "        if balance > 1 and key > root.left.val: \n",
    "            root.left = self.left_rotate(root.left) \n",
    "            return self.right_rotate(root) \n",
    "  \n",
    "        # Case 4 - Right Left \n",
    "        if balance < -1 and key < root.right.val: \n",
    "            root.right = self.right_rotate(root.right) \n",
    "            return self.left_rotate(root) \n",
    "  \n",
    "        return root \n",
    "    \n",
    "    def delete(self, root, key):\n",
    "        \n",
    "        # Step 1 - Standard BST delete\n",
    "        if not root:\n",
    "            return root\n",
    "        \n",
    "        elif key < root.val:\n",
    "            root.left = self.delete(root.left, key)\n",
    "        elif key > root.val:\n",
    "            root.right = self.delete(root.right, key)\n",
    "        else:\n",
    "            if root.left is None:\n",
    "                temp = root.right\n",
    "                root = None\n",
    "                return temp\n",
    "            elif root.right is None:\n",
    "                temp = root.left\n",
    "                root = None\n",
    "                return temp\n",
    "            \n",
    "        temp = self.get_min_value_node(root.right)\n",
    "        root.val = temp.val\n",
    "        root.right = self.delete(root.right, temp.val)\n",
    "        \n",
    "        # If the tree has only one node,\n",
    "        # simply return it\n",
    "        if root is None:\n",
    "            return root\n",
    "        \n",
    "        # Step 2 - Update the height of the \n",
    "        # ancestor node\n",
    "        root.height = 1 + max(self.get_height(root.left),self.get_height(root.right))\n",
    "        \n",
    "        # Step 3 - Get the balance factor\n",
    "        balance = self.get_balance(root)\n",
    "        \n",
    "        # Step 4 - If the node is unbalanced, \n",
    "        # then try out the 4 cases\n",
    "        # Case 1 - Left Left\n",
    "        if balance > 1 and self.get_balance(root.left) >= 0:\n",
    "            return self.right_rotate(root)\n",
    " \n",
    "        # Case 2 - Right Right\n",
    "        if balance < -1 and self.get_balance(root.right) <= 0:\n",
    "            return self.left_rotate(root)\n",
    " \n",
    "        # Case 3 - Left Right\n",
    "        if balance > 1 and self.get_balance(root.left) < 0:\n",
    "            root.left = self.left_rotate(root.left)\n",
    "            return self.right_rotate(root)\n",
    " \n",
    "        # Case 4 - Right Left\n",
    "        if balance < -1 and self.get_balance(root.right) > 0:\n",
    "            root.right = self.right_rotate(root.right)\n",
    "            return self.left_rotate(root)\n",
    " \n",
    "        return root        \n",
    "        \n",
    "    def get_min_value_node(self, root):\n",
    "        if root is None or root.left is None:\n",
    "            return root\n",
    "        return self.get_balance(root.left)\n",
    "        \n",
    "  \n",
    "    def left_rotate(self, parent): \n",
    "  \n",
    "        child = parent.right \n",
    "        gc = child.left \n",
    "  \n",
    "        # Perform rotation \n",
    "        child.left = parent \n",
    "        parent.right = gc\n",
    "  \n",
    "        # Update heights \n",
    "        self.update_heights([parent, child])\n",
    "  \n",
    "        # Return the new root \n",
    "        return child \n",
    "  \n",
    "    def right_rotate(self, parent): \n",
    "  \n",
    "        child = parent.left \n",
    "        g_child = child.right \n",
    "  \n",
    "        # Perform rotation \n",
    "        child.right = parent \n",
    "        parent.left = g_child \n",
    "  \n",
    "        # Update heights \n",
    "\n",
    "        self.update_heights([parent, child])\n",
    "  \n",
    "        # Return the new root \n",
    "        return child \n",
    "    \n",
    "    def update_heights(self, nodes):\n",
    "        for node in nodes:\n",
    "            node.height = 1 + max(self.get_height(node.left), \n",
    "                            self.get_height(node.right)) \n",
    "  \n",
    "    def get_height(self, root): \n",
    "        if not root: \n",
    "            return 0\n",
    "  \n",
    "        return root.height \n",
    "  \n",
    "    def get_balance(self, root): \n",
    "        if not root: \n",
    "            return 0\n",
    "  \n",
    "        return self.get_height(root.left) - self.get_height(root.right) \n",
    "  \n",
    "    def pre_order(self, root): \n",
    "  \n",
    "        if not root: \n",
    "            return\n",
    "  \n",
    "        print(\"{0} \".format(root.val), end=\"\") \n",
    "        self.pre_order(root.left) \n",
    "        self.pre_order(root.right) \n",
    "        \n",
    "    def in_order(self, root):\n",
    "        if root is not None:\n",
    "            self.in_order(root.left)\n",
    "            print(root.val, end=' ')\n",
    "            self.in_order(root.right) \n",
    "  \n"
   ]
  },
  {
   "cell_type": "code",
   "execution_count": 64,
   "metadata": {},
   "outputs": [],
   "source": [
    "myTree = AVL_Tree() \n",
    "root = None\n",
    "  \n",
    "root = myTree.insert(root, 10) \n",
    "root = myTree.insert(root, 20) \n",
    "root = myTree.insert(root, 30) \n",
    "root = myTree.insert(root, 40) \n",
    "root = myTree.insert(root, 50) \n",
    "root = myTree.insert(root, 25) "
   ]
  },
  {
   "cell_type": "code",
   "execution_count": 65,
   "metadata": {},
   "outputs": [
    {
     "name": "stdout",
     "output_type": "stream",
     "text": [
      "Preorder traversal of the constructed AVL tree is\n",
      "30 20 10 25 40 50 \n"
     ]
    }
   ],
   "source": [
    "print(\"Preorder traversal of the\", \n",
    "      \"constructed AVL tree is\") \n",
    "myTree.pre_order(root) \n",
    "print() "
   ]
  },
  {
   "cell_type": "code",
   "execution_count": 62,
   "metadata": {},
   "outputs": [
    {
     "name": "stdout",
     "output_type": "stream",
     "text": [
      "10 20 25 30 40 50 "
     ]
    }
   ],
   "source": [
    "myTree.in_order(root)"
   ]
  },
  {
   "cell_type": "code",
   "execution_count": 66,
   "metadata": {},
   "outputs": [],
   "source": [
    "myTree = AVL_Tree()\n",
    "root = None\n",
    "nums = [9, 5, 10, 0, 6, 11, -1, 1, 2]"
   ]
  },
  {
   "cell_type": "code",
   "execution_count": 67,
   "metadata": {},
   "outputs": [],
   "source": [
    "for num in nums:\n",
    "    root = myTree.insert(root, num)"
   ]
  },
  {
   "cell_type": "code",
   "execution_count": 68,
   "metadata": {},
   "outputs": [
    {
     "name": "stdout",
     "output_type": "stream",
     "text": [
      "Preorder Traversal after insertion -\n",
      "9 1 0 -1 5 2 6 10 11 \n"
     ]
    }
   ],
   "source": [
    "# Preorder Traversal\n",
    "print(\"Preorder Traversal after insertion -\")\n",
    "myTree.pre_order(root)\n",
    "print()"
   ]
  },
  {
   "cell_type": "code",
   "execution_count": 69,
   "metadata": {},
   "outputs": [],
   "source": [
    "# Delete\n",
    "key = 10\n",
    "root = myTree.delete(root, key)"
   ]
  },
  {
   "cell_type": "code",
   "execution_count": 70,
   "metadata": {},
   "outputs": [
    {
     "name": "stdout",
     "output_type": "stream",
     "text": [
      "Preorder Traversal after deletion -\n",
      "1 0 -1 11 5 2 6 "
     ]
    }
   ],
   "source": [
    "# Preorder Traversal\n",
    "print(\"Preorder Traversal after deletion -\")\n",
    "myTree.pre_order(root)"
   ]
  },
  {
   "cell_type": "code",
   "execution_count": null,
   "metadata": {},
   "outputs": [],
   "source": []
  }
 ],
 "metadata": {
  "kernelspec": {
   "display_name": "base",
   "language": "python",
   "name": "python3"
  },
  "language_info": {
   "codemirror_mode": {
    "name": "ipython",
    "version": 3
   },
   "file_extension": ".py",
   "mimetype": "text/x-python",
   "name": "python",
   "nbconvert_exporter": "python",
   "pygments_lexer": "ipython3",
   "version": "3.11.5"
  }
 },
 "nbformat": 4,
 "nbformat_minor": 2
}
