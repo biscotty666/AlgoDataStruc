{
 "cells": [
  {
   "cell_type": "markdown",
   "metadata": {},
   "source": [
    "# Binary Search Tree"
   ]
  },
  {
   "cell_type": "markdown",
   "metadata": {},
   "source": [
    "## Define Node"
   ]
  },
  {
   "cell_type": "markdown",
   "metadata": {},
   "source": [
    "### As a class"
   ]
  },
  {
   "cell_type": "code",
   "execution_count": 11,
   "metadata": {},
   "outputs": [],
   "source": [
    "from dataclasses import dataclass\n",
    "@dataclass\n",
    "class Node:\n",
    "    key: int\n",
    "    left: 'Node' = None\n",
    "    right: 'Node' = None"
   ]
  },
  {
   "cell_type": "markdown",
   "metadata": {},
   "source": [
    "## Insertion"
   ]
  },
  {
   "cell_type": "code",
   "execution_count": 18,
   "metadata": {},
   "outputs": [],
   "source": [
    "def insert(node: object, key: int) -> object:\n",
    "    \"\"\"Utility function to insert a new value (node) in the BST\n",
    "\n",
    "    Args:\n",
    "        node (object): The new node\n",
    "        key (int): The value to be stored\n",
    "\n",
    "    Returns:\n",
    "        object: The new node\n",
    "    \"\"\"\n",
    "    if node is None:\n",
    "        # Tree is empty, or recusion finished so return a new node\n",
    "        return Node(key)\n",
    "    \n",
    "    # Recurse down the tree\n",
    "    if key < node.key:\n",
    "        node.left = insert(node.left, key)\n",
    "    elif key > node.key:\n",
    "        node.right = insert(node.right, key)\n",
    "        \n",
    "    return node"
   ]
  },
  {
   "cell_type": "markdown",
   "metadata": {},
   "source": [
    "## Search"
   ]
  },
  {
   "cell_type": "code",
   "execution_count": 19,
   "metadata": {},
   "outputs": [],
   "source": [
    "def search(node: object, key: int):\n",
    "    # Base Cases: node is null or key is at node\n",
    "    if node is None or node.key == key:\n",
    "        return node\n",
    "    \n",
    "    if node.key < key:\n",
    "        return search(node.right, key)\n",
    "    \n",
    "    return search(node.left, key)"
   ]
  },
  {
   "cell_type": "markdown",
   "metadata": {},
   "source": [
    "## Delete"
   ]
  },
  {
   "cell_type": "code",
   "execution_count": 25,
   "metadata": {},
   "outputs": [],
   "source": [
    "def delete_node(node, key):\n",
    "    # Base case\n",
    "    if node is None:\n",
    "        return node\n",
    "    \n",
    "    # Recurse to the node to be deleted\n",
    "    \n",
    "    if node.key > key:\n",
    "        node.left = delete_node(node.left, key)\n",
    "        return node\n",
    "    elif node.key < key:\n",
    "        node.right = delete_node(node.right, key)\n",
    "        return node\n",
    "    \n",
    "    # Now we are at the node to be deleted\n",
    "    \n",
    "    # If one child is empty\n",
    "    if node.left is None:\n",
    "        temp = node.right\n",
    "        del node\n",
    "        return temp\n",
    "    elif node.right is None:\n",
    "        temp = node.left\n",
    "        del node\n",
    "        return temp\n",
    "    \n",
    "    # If both exist\n",
    "    else:\n",
    "        new_parent = node\n",
    "        \n",
    "        # Find the successor\n",
    "        successor = node.right\n",
    "        while successor.left is not None:\n",
    "            new_parent = successor\n",
    "            successor = successor.left\n",
    "            \n",
    "        # Delete successor.  Since successor\n",
    "        # is always left child of its parent\n",
    "        # we can safely make successor's right\n",
    "        # right child as left of its parent.\n",
    "        # If there is no succ, then assign\n",
    "        # succ.right to succParent.right\n",
    "        \n",
    "        if new_parent != node:\n",
    "            new_parent.left = successor.right\n",
    "        else:\n",
    "            new_parent.right = successor.right\n",
    "            \n",
    "        # Copy the value to node\n",
    "        node.key = successor.key\n",
    "        \n",
    "        del successor\n",
    "        return node"
   ]
  },
  {
   "cell_type": "markdown",
   "metadata": {},
   "source": [
    "## Walks"
   ]
  },
  {
   "cell_type": "code",
   "execution_count": 21,
   "metadata": {},
   "outputs": [],
   "source": [
    "def in_order(node):\n",
    "    if node is not None:\n",
    "        in_order(node.left)\n",
    "        print(node.key, end=' ')\n",
    "        in_order(node.right)        \n",
    "\n",
    "def pre_order(node):\n",
    "    if node is not None:\n",
    "        print(node.key, end=' ')\n",
    "        pre_order(node.left)\n",
    "        pre_order(node.right)\n",
    "        \n",
    "def post_order(node):\n",
    "    if node is not None:\n",
    "        post_order(node.left)\n",
    "        post_order(node.right)\n",
    "        print(node.key, end=\" \")"
   ]
  },
  {
   "cell_type": "markdown",
   "metadata": {},
   "source": [
    "## Create a tree"
   ]
  },
  {
   "cell_type": "code",
   "execution_count": 22,
   "metadata": {},
   "outputs": [
    {
     "data": {
      "text/plain": [
       "Node(key=50, left=Node(key=30, left=Node(key=20, left=None, right=None), right=Node(key=40, left=None, right=None)), right=Node(key=70, left=Node(key=60, left=None, right=None), right=Node(key=80, left=None, right=None)))"
      ]
     },
     "execution_count": 22,
     "metadata": {},
     "output_type": "execute_result"
    }
   ],
   "source": [
    "node = None\n",
    "node = insert(node, 50)\n",
    "insert(node, 30)\n",
    "insert(node, 20)\n",
    "insert(node, 40)\n",
    "insert(node, 70)\n",
    "insert(node, 60)\n",
    "insert(node, 80)"
   ]
  },
  {
   "cell_type": "markdown",
   "metadata": {},
   "source": [
    "Walking"
   ]
  },
  {
   "cell_type": "code",
   "execution_count": 23,
   "metadata": {},
   "outputs": [
    {
     "name": "stdout",
     "output_type": "stream",
     "text": [
      "20 30 40 50 60 70 80 in_order(node)=None\n",
      "50 30 20 40 70 60 80 pre_order(node)=None\n",
      "20 40 30 60 80 70 50 post_order(node)=None\n"
     ]
    }
   ],
   "source": [
    "print(f'{in_order(node)=}')\n",
    "print(f'{pre_order(node)=}')\n",
    "print(f'{post_order(node)=}')"
   ]
  },
  {
   "cell_type": "markdown",
   "metadata": {},
   "source": [
    "Search"
   ]
  },
  {
   "cell_type": "code",
   "execution_count": 24,
   "metadata": {},
   "outputs": [
    {
     "name": "stdout",
     "output_type": "stream",
     "text": [
      "6 not found\n",
      "60 found\n"
     ]
    }
   ],
   "source": [
    "# Key to be found\n",
    "key = 6\n",
    "\n",
    "# Searching in a BST\n",
    "if search(node, key) is None:\n",
    "    print(key, \"not found\")\n",
    "else:\n",
    "    print(key, \"found\")\n",
    "\n",
    "key = 60\n",
    "\n",
    "# Searching in a BST\n",
    "if search(node, key) is None:\n",
    "    print(key, \"not found\")\n",
    "else:\n",
    "    print(key, \"found\")"
   ]
  },
  {
   "cell_type": "markdown",
   "metadata": {},
   "source": [
    "Delete"
   ]
  },
  {
   "cell_type": "code",
   "execution_count": 10,
   "metadata": {},
   "outputs": [
    {
     "name": "stdout",
     "output_type": "stream",
     "text": [
      "Original BST: 20 30 40 50 60 70 \n",
      "\n",
      "Delete a Leaf Node: 20\n",
      "Modified BST tree after deleting Leaf Node:\n",
      "30 40 50 60 70 \n",
      "\n",
      "Delete Node with single child: 70\n",
      "Modified BST tree after deleting single child Node:\n",
      "30 40 50 60 \n",
      "\n",
      "Delete Node with both child: 50\n",
      "Modified BST tree after deleting both child Node:\n",
      "30 40 60 "
     ]
    }
   ],
   "source": [
    "node = None\n",
    "node = insert(node, 50)\n",
    "node = insert(node, 30)\n",
    "node = insert(node, 20)\n",
    "node = insert(node, 40)\n",
    "node = insert(node, 70)\n",
    "node = insert(node, 60)\n",
    "\n",
    "print(\"Original BST: \", end='')\n",
    "in_order(node)\n",
    "\n",
    "print(\"\\n\\nDelete a Leaf Node: 20\")\n",
    "node = delete_node(node, 20)\n",
    "print(\"Modified BST tree after deleting Leaf Node:\")\n",
    "in_order(node)\n",
    "\n",
    "print(\"\\n\\nDelete Node with single child: 70\")\n",
    "node = delete_node(node, 70)\n",
    "print(\"Modified BST tree after deleting single child Node:\")\n",
    "in_order(node)\n",
    "\n",
    "print(\"\\n\\nDelete Node with both child: 50\")\n",
    "node = delete_node(node, 50)\n",
    "print(\"Modified BST tree after deleting both child Node:\")\n",
    "in_order(node)"
   ]
  },
  {
   "cell_type": "code",
   "execution_count": null,
   "metadata": {},
   "outputs": [],
   "source": []
  }
 ],
 "metadata": {
  "kernelspec": {
   "display_name": "base",
   "language": "python",
   "name": "python3"
  },
  "language_info": {
   "codemirror_mode": {
    "name": "ipython",
    "version": 3
   },
   "file_extension": ".py",
   "mimetype": "text/x-python",
   "name": "python",
   "nbconvert_exporter": "python",
   "pygments_lexer": "ipython3",
   "version": "3.11.5"
  }
 },
 "nbformat": 4,
 "nbformat_minor": 2
}
