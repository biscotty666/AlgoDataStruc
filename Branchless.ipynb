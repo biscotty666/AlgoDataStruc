{
 "cells": [
  {
   "cell_type": "markdown",
   "id": "835e5e9f-2800-432a-84d4-37f3c23d5c6c",
   "metadata": {},
   "source": [
    "# Branchless programming\n",
    "\n",
    "Replaces inefficient if statements. Not always faster, need to confirm. Generally faster for smaller ranges."
   ]
  },
  {
   "cell_type": "code",
   "execution_count": 22,
   "id": "3a277e98-af75-44e0-92ad-a655ce08f028",
   "metadata": {
    "tags": []
   },
   "outputs": [
    {
     "name": "stdout",
     "output_type": "stream",
     "text": [
      "10 10\n",
      "CPU times: user 41 µs, sys: 2 µs, total: 43 µs\n",
      "Wall time: 39.3 µs\n"
     ]
    }
   ],
   "source": [
    "%%time\n",
    "e = 0\n",
    "o = 0\n",
    "for i in range(20):\n",
    "\tif i % 2 == 0:\n",
    "\t\te += 1\n",
    "\telse:\n",
    "\t\to += 1\n",
    "print(o, e)"
   ]
  },
  {
   "cell_type": "code",
   "execution_count": 31,
   "id": "d406f6ab-5358-403f-92ae-bfffc7db331e",
   "metadata": {
    "tags": []
   },
   "outputs": [
    {
     "name": "stdout",
     "output_type": "stream",
     "text": [
      "10 10\n",
      "CPU times: user 126 µs, sys: 10 µs, total: 136 µs\n",
      "Wall time: 127 µs\n"
     ]
    }
   ],
   "source": [
    "%%time\n",
    "e = 0\n",
    "o = 0\n",
    "for i in range(20):\n",
    "    e += 1 & i % 2 == 0\n",
    "    o += 1 & i % 2 != 0\n",
    "print(o, e)"
   ]
  },
  {
   "cell_type": "code",
   "execution_count": 14,
   "id": "bb38feed-f376-4276-9e01-6986ee08a5f1",
   "metadata": {
    "tags": []
   },
   "outputs": [
    {
     "data": {
      "text/plain": [
       "97"
      ]
     },
     "execution_count": 14,
     "metadata": {},
     "output_type": "execute_result"
    }
   ],
   "source": [
    "ord('a')"
   ]
  },
  {
   "cell_type": "code",
   "execution_count": 15,
   "id": "98710c72-a86a-4c0f-a28e-a7949a988cc9",
   "metadata": {
    "tags": []
   },
   "outputs": [
    {
     "data": {
      "text/plain": [
       "65"
      ]
     },
     "execution_count": 15,
     "metadata": {},
     "output_type": "execute_result"
    }
   ],
   "source": [
    "ord('A')"
   ]
  },
  {
   "cell_type": "code",
   "execution_count": 26,
   "id": "b2e9e8bf-08a1-4424-ab23-6da444dee65e",
   "metadata": {},
   "outputs": [
    {
     "name": "stdout",
     "output_type": "stream",
     "text": [
      "[0, 3, 6, 9, 12, 15, 18, 21, 24, 27, 30, 33, 36, 39, 42, 45, 48, 51, 54, 57, 60, 63, 66, 69, 72, 75, 78, 81, 84, 87, 90, 93, 96, 99, 102, 105, 108, 111, 114, 117, 120, 123, 126, 129, 132, 135, 138, 141, 144, 147, 150, 153, 156, 159, 162, 165, 168, 171, 174, 177, 180, 183, 186, 189, 192, 195, 198]\n",
      "CPU times: user 91 µs, sys: 6 µs, total: 97 µs\n",
      "Wall time: 102 µs\n"
     ]
    }
   ],
   "source": [
    "%%time\n",
    "list = []\n",
    "for i in range(200):\n",
    "    if i % 3 == 0:\n",
    "        list.append(i)\n",
    "print(list)"
   ]
  },
  {
   "cell_type": "code",
   "execution_count": 40,
   "id": "0d8d460a-cfc8-417e-b86c-5a79fd087964",
   "metadata": {
    "tags": []
   },
   "outputs": [
    {
     "ename": "TypeError",
     "evalue": "unsupported operand type(s) for &: 'NoneType' and 'bool'",
     "output_type": "error",
     "traceback": [
      "\u001b[0;31m---------------------------------------------------------------------------\u001b[0m",
      "\u001b[0;31mTypeError\u001b[0m                                 Traceback (most recent call last)",
      "File \u001b[0;32m<timed exec>:5\u001b[0m\n",
      "\u001b[0;31mTypeError\u001b[0m: unsupported operand type(s) for &: 'NoneType' and 'bool'"
     ]
    }
   ],
   "source": [
    "%%time\n",
    "mylist = []\n",
    "good = 0\n",
    "for i in range(200):\n",
    "    good += 1 & (i % 3 == 0)\n",
    "    mylist.append(i) & (i % 3 == 0)\n",
    "print(good)"
   ]
  },
  {
   "cell_type": "code",
   "execution_count": null,
   "id": "be8b74ef-0f56-4baa-905b-a4a54a1cd0fe",
   "metadata": {},
   "outputs": [],
   "source": []
  }
 ],
 "metadata": {
  "kernelspec": {
   "display_name": "Python 3 (ipykernel)",
   "language": "python",
   "name": "python3"
  },
  "language_info": {
   "codemirror_mode": {
    "name": "ipython",
    "version": 3
   },
   "file_extension": ".py",
   "mimetype": "text/x-python",
   "name": "python",
   "nbconvert_exporter": "python",
   "pygments_lexer": "ipython3",
   "version": "3.11.5"
  }
 },
 "nbformat": 4,
 "nbformat_minor": 5
}
