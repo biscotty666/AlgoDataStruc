{
 "cells": [
  {
   "cell_type": "code",
   "execution_count": 1,
   "metadata": {},
   "outputs": [],
   "source": [
    "from dataclasses import dataclass"
   ]
  },
  {
   "cell_type": "code",
   "execution_count": 5,
   "metadata": {},
   "outputs": [],
   "source": [
    "class Expr:\n",
    "    pass"
   ]
  },
  {
   "cell_type": "code",
   "execution_count": 40,
   "metadata": {},
   "outputs": [],
   "source": [
    "@dataclass\n",
    "class Const(Expr):\n",
    "    val: int\n",
    "    \n",
    "    def eval(self, env):\n",
    "        return self.val\n",
    "    \n",
    "    def __str__(self) -> str:\n",
    "        return f'{self.val}'"
   ]
  },
  {
   "cell_type": "code",
   "execution_count": 41,
   "metadata": {},
   "outputs": [],
   "source": [
    "@dataclass\n",
    "class Var(Expr):\n",
    "    name: str\n",
    "    \n",
    "    def eval(self, env):\n",
    "        return env[self.name]\n",
    "    \n",
    "    def __str__(self):\n",
    "        return self.name"
   ]
  },
  {
   "cell_type": "code",
   "execution_count": 48,
   "metadata": {},
   "outputs": [],
   "source": [
    "class Times(Expr):\n",
    "    def __init__(self, left, right) -> None:\n",
    "        self.left = left\n",
    "        self.right = right\n",
    "        \n",
    "    def eval(self, env):\n",
    "        return self.left.eval(env) * self.right.eval(env)\n",
    "    \n",
    "    def __str__(self) -> str:\n",
    "        return f'({self.left} * {self.right})'\n",
    "\n",
    "        "
   ]
  },
  {
   "cell_type": "code",
   "execution_count": 59,
   "metadata": {},
   "outputs": [],
   "source": [
    "class Plus():\n",
    "    def __init__(self, left, right) -> None:\n",
    "        self.left = left\n",
    "        self.right = right\n",
    "        \n",
    "    def eval(self, env):\n",
    "        return self.left.eval(env) + self.right.eval(env)\n",
    "        \n",
    "    def __str__(self) -> str:\n",
    "        return f'({self.left} + {self.right})'        "
   ]
  },
  {
   "cell_type": "code",
   "execution_count": 60,
   "metadata": {},
   "outputs": [],
   "source": [
    "e1 = Times(Const(3),Plus(Var('y'), Var('x')))"
   ]
  },
  {
   "cell_type": "code",
   "execution_count": 61,
   "metadata": {},
   "outputs": [],
   "source": [
    "e2 = Plus(Times(Const(3), Var(\"y\")),Var(\"x\"))"
   ]
  },
  {
   "cell_type": "code",
   "execution_count": 62,
   "metadata": {},
   "outputs": [
    {
     "data": {
      "text/plain": [
       "18"
      ]
     },
     "execution_count": 62,
     "metadata": {},
     "output_type": "execute_result"
    }
   ],
   "source": [
    "env = {'x': 2, \"y\": 4}\n",
    "e1.eval(env)"
   ]
  },
  {
   "cell_type": "code",
   "execution_count": 63,
   "metadata": {},
   "outputs": [
    {
     "data": {
      "text/plain": [
       "14"
      ]
     },
     "execution_count": 63,
     "metadata": {},
     "output_type": "execute_result"
    }
   ],
   "source": [
    "e2.eval(env)"
   ]
  },
  {
   "cell_type": "code",
   "execution_count": null,
   "metadata": {},
   "outputs": [],
   "source": []
  }
 ],
 "metadata": {
  "kernelspec": {
   "display_name": "base",
   "language": "python",
   "name": "python3"
  },
  "language_info": {
   "codemirror_mode": {
    "name": "ipython",
    "version": 3
   },
   "file_extension": ".py",
   "mimetype": "text/x-python",
   "name": "python",
   "nbconvert_exporter": "python",
   "pygments_lexer": "ipython3",
   "version": "3.11.5"
  }
 },
 "nbformat": 4,
 "nbformat_minor": 2
}
