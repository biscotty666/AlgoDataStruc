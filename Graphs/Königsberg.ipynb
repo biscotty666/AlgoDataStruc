{
 "cells": [
  {
   "cell_type": "markdown",
   "metadata": {},
   "source": [
    "# Seven Bridges of Königsberg\n",
    "\n",
    "[Tutorial](https://www.youtube.com/watch?v=WWhGcwlCoXE&list=PLLIPpKeh9v3ZFEHvNd5xqUrCkqLgXnekL&index=2)"
   ]
  },
  {
   "cell_type": "markdown",
   "metadata": {},
   "source": [
    "<img src=\"KB1.png\" />\n",
    "\n",
    "<img src=\"KB2.png\" />"
   ]
  },
  {
   "cell_type": "markdown",
   "metadata": {},
   "source": [
    "Create a list of all connections. Capital letters are areas and small letters are the bridges."
   ]
  },
  {
   "cell_type": "code",
   "execution_count": 14,
   "metadata": {},
   "outputs": [],
   "source": [
    "BRIDGES = [\n",
    "    \"AaB\",\n",
    "    \"AbB\",\n",
    "    \"AcC\",\n",
    "    \"AdC\",\n",
    "    \"AeD\",\n",
    "    \"BfD\",\n",
    "    \"CgD\",\n",
    "]"
   ]
  },
  {
   "cell_type": "code",
   "execution_count": 15,
   "metadata": {},
   "outputs": [],
   "source": [
    "def get_walks_starting_from(area: str, bridges: list = BRIDGES):\n",
    "    \"\"\"Generate all possible walks starting from a given land area.\n",
    "\n",
    "    Args:\n",
    "        area (str): The vertex to start from\n",
    "        bridges (list, optional): A list containing 3 letter strings.\n",
    "        The first and last are capital letters representing the vertices\n",
    "        and the middle letter is small representing the edge.\n",
    "        Defaults to BRIDGES.\n",
    "    \"\"\"\n",
    "    walks = []\n",
    "    \n",
    "    def make_walks(area:str, walked = None, bridges_crossed:tuple = None):\n",
    "        \"\"\"The recursive function to create the walks\n",
    "\n",
    "        Args:\n",
    "            area (str): Initial vertex\n",
    "            walked (str): A list to keep track of taken walks. Defaults to None.\n",
    "            bridges_crossed (tuple): A list to keep track of edges traversed. Defaults to None.\n",
    "        \"\"\"\n",
    "        walked = walked or area\n",
    "        bridges_crossed = bridges_crossed or ()\n",
    "        available_bridges = [\n",
    "            bridge for bridge in bridges\n",
    "            if area in bridge and bridge not in bridges_crossed\n",
    "        ]\n",
    "        \n",
    "        # Determine if walk has ended\n",
    "        if not available_bridges:\n",
    "            walks.append(walked)\n",
    "            \n",
    "        for bridge in available_bridges:\n",
    "            # a crossing is a bridge and a destination area. If crossing from A to B, the \n",
    "            # bridge may be AbB or BbA. In both cases we want the result \"bB\".\n",
    "            # bridge[1::-1] takes the first two characters and reverses the order.\n",
    "            crossing = bridge[1:] if bridge[0] == area else bridge[1::-1]\n",
    "            make_walks(\n",
    "                area=crossing[-1],\n",
    "                walked = walked + crossing,\n",
    "                bridges_crossed=(bridge, *bridges_crossed),\n",
    "            )\n",
    "    \n",
    "    make_walks(area)\n",
    "    return walks\n",
    "\n",
    "        "
   ]
  },
  {
   "cell_type": "code",
   "execution_count": 16,
   "metadata": {},
   "outputs": [
    {
     "name": "stdout",
     "output_type": "stream",
     "text": [
      "372\n"
     ]
    }
   ],
   "source": [
    "walks_starting_from = {area: get_walks_starting_from(area) for area in \"ABCD\"}\n",
    "num_total_walks = sum(len(walks) for walks in walks_starting_from.values())\n",
    "print(num_total_walks)"
   ]
  },
  {
   "cell_type": "code",
   "execution_count": 17,
   "metadata": {},
   "outputs": [
    {
     "data": {
      "text/plain": [
       "['AaBbAcCdAeDfB', 'AaBbAcCdAeDgC', 'AaBbAcCgDeAdC']"
      ]
     },
     "execution_count": 17,
     "metadata": {},
     "output_type": "execute_result"
    }
   ],
   "source": [
    "walks_starting_from[\"A\"][:3]"
   ]
  },
  {
   "cell_type": "markdown",
   "metadata": {},
   "source": [
    "If all bridges are crossed the length of the string should be 15\n",
    "\n",
    "To check all possible walks from all possible destinations we need to combine the\n",
    "values from the dictionary into a single list using itertools chain. Since the values are\n",
    "actually a list of lists, the `from_iterable` method is used. This actually returns a chain object\n",
    "rather than a list, but can be iterated over without converting to a list."
   ]
  },
  {
   "cell_type": "code",
   "execution_count": 19,
   "metadata": {},
   "outputs": [
    {
     "name": "stdout",
     "output_type": "stream",
     "text": [
      "0\n"
     ]
    }
   ],
   "source": [
    "from itertools import chain\n",
    "\n",
    "all_walks = chain.from_iterable(walks_starting_from.values())\n",
    "\n",
    "solutions = [walk for walk in all_walks if len(walk) == 15]\n",
    "print(len(solutions))"
   ]
  },
  {
   "cell_type": "code",
   "execution_count": null,
   "metadata": {},
   "outputs": [],
   "source": []
  }
 ],
 "metadata": {
  "kernelspec": {
   "display_name": "base",
   "language": "python",
   "name": "python3"
  },
  "language_info": {
   "codemirror_mode": {
    "name": "ipython",
    "version": 3
   },
   "file_extension": ".py",
   "mimetype": "text/x-python",
   "name": "python",
   "nbconvert_exporter": "python",
   "pygments_lexer": "ipython3",
   "version": "3.11.5"
  }
 },
 "nbformat": 4,
 "nbformat_minor": 2
}
