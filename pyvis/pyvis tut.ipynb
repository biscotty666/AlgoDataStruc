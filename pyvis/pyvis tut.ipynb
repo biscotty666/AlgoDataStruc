{
 "cells": [
  {
   "cell_type": "code",
   "execution_count": 1,
   "id": "2d485c23-7d6e-41ed-88ed-84afc6b154ad",
   "metadata": {
    "tags": []
   },
   "outputs": [],
   "source": [
    "import pyvis"
   ]
  },
  {
   "cell_type": "code",
   "execution_count": 11,
   "id": "94da2486-add1-4f74-943b-0515fc68be4b",
   "metadata": {
    "tags": []
   },
   "outputs": [
    {
     "name": "stdout",
     "output_type": "stream",
     "text": [
      "Warning: When  cdn_resources is 'local' jupyter notebook has issues displaying graphics on chrome/safari. Use cdn_resources='in_line' or cdn_resources='remote' if you have issues viewing graphics in a notebook.\n"
     ]
    }
   ],
   "source": [
    "from pyvis.network import Network\n",
    "net = Network(notebook=True)"
   ]
  },
  {
   "cell_type": "code",
   "execution_count": 12,
   "id": "1fc11f1c-7122-428d-8618-1777d56ca665",
   "metadata": {
    "tags": []
   },
   "outputs": [],
   "source": [
    "net.add_node(0)\n",
    "net.add_node(1)\n",
    "net.add_edge(0,1)"
   ]
  },
  {
   "cell_type": "code",
   "execution_count": 13,
   "id": "a6004fe4-f57e-4e7b-b3b0-adaf6b9b9f2f",
   "metadata": {
    "tags": []
   },
   "outputs": [
    {
     "name": "stdout",
     "output_type": "stream",
     "text": [
      "basic.html\n"
     ]
    },
    {
     "data": {
      "text/html": [
       "\n",
       "        <iframe\n",
       "            width=\"100%\"\n",
       "            height=\"600px\"\n",
       "            src=\"basic.html\"\n",
       "            frameborder=\"0\"\n",
       "            allowfullscreen\n",
       "            \n",
       "        ></iframe>\n",
       "        "
      ],
      "text/plain": [
       "<IPython.lib.display.IFrame at 0x7f85a5be9fd0>"
      ]
     },
     "execution_count": 13,
     "metadata": {},
     "output_type": "execute_result"
    }
   ],
   "source": [
    "net.show('basic.html')"
   ]
  },
  {
   "cell_type": "code",
   "execution_count": null,
   "id": "dedaabff-c8ea-4001-a385-357af6083c47",
   "metadata": {},
   "outputs": [],
   "source": []
  }
 ],
 "metadata": {
  "kernelspec": {
   "display_name": "Python 3 (ipykernel)",
   "language": "python",
   "name": "python3"
  },
  "language_info": {
   "codemirror_mode": {
    "name": "ipython",
    "version": 3
   },
   "file_extension": ".py",
   "mimetype": "text/x-python",
   "name": "python",
   "nbconvert_exporter": "python",
   "pygments_lexer": "ipython3",
   "version": "3.11.5"
  }
 },
 "nbformat": 4,
 "nbformat_minor": 5
}
