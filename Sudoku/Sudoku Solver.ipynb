{
 "cells": [
  {
   "cell_type": "code",
   "execution_count": 17,
   "metadata": {},
   "outputs": [],
   "source": [
    "grid = [\n",
    "    [5,3,0,0,7,0,0,0,0],\n",
    "    [6,0,0,1,9,5,0,0,0],\n",
    "    [0,9,8,0,0,0,0,6,0],\n",
    "    [8,0,0,0,6,0,0,0,3],\n",
    "    [4,0,0,8,0,3,0,0,1],\n",
    "    [7,0,0,0,2,0,0,0,6],\n",
    "    [0,6,0,0,0,0,2,8,0],\n",
    "    [0,0,0,4,1,9,0,0,5],\n",
    "    [0,0,0,0,8,0,0,7,9]\n",
    "]"
   ]
  },
  {
   "cell_type": "code",
   "execution_count": 2,
   "metadata": {},
   "outputs": [],
   "source": [
    "import numpy as np"
   ]
  },
  {
   "cell_type": "code",
   "execution_count": 3,
   "metadata": {},
   "outputs": [
    {
     "name": "stdout",
     "output_type": "stream",
     "text": [
      "[[5 3 0 0 7 0 0 0 0]\n",
      " [6 0 0 1 9 5 0 0 0]\n",
      " [0 9 8 0 0 0 0 6 0]\n",
      " [8 0 0 0 6 0 0 0 3]\n",
      " [4 0 0 8 0 3 0 0 1]\n",
      " [7 0 0 0 2 0 0 0 6]\n",
      " [0 6 0 0 0 0 2 8 0]\n",
      " [0 0 0 4 1 9 0 0 5]\n",
      " [0 0 0 0 8 0 0 7 9]]\n"
     ]
    }
   ],
   "source": [
    "print(np.matrix(grid))"
   ]
  },
  {
   "cell_type": "markdown",
   "metadata": {},
   "source": [
    "## Version 1"
   ]
  },
  {
   "cell_type": "code",
   "execution_count": 4,
   "metadata": {},
   "outputs": [],
   "source": [
    "def possible(grid, row, col, num):\n",
    "    for i in range(9):\n",
    "        if grid[row][i] == num:\n",
    "            return False\n",
    "    for i in range(9):\n",
    "        if grid[i][col] == num:\n",
    "            return False\n",
    "    start_row = row - row % 3\n",
    "    start_col = col - col % 3\n",
    "    for i in range(3):\n",
    "        for j in range(3):\n",
    "            if grid[start_row+i][start_col + j] == num:\n",
    "                return False\n",
    "    return True"
   ]
  },
  {
   "cell_type": "code",
   "execution_count": 5,
   "metadata": {},
   "outputs": [
    {
     "data": {
      "text/plain": [
       "True"
      ]
     },
     "execution_count": 5,
     "metadata": {},
     "output_type": "execute_result"
    }
   ],
   "source": [
    "possible(grid, 4,4,5)"
   ]
  },
  {
   "cell_type": "code",
   "execution_count": 6,
   "metadata": {},
   "outputs": [
    {
     "data": {
      "text/plain": [
       "False"
      ]
     },
     "execution_count": 6,
     "metadata": {},
     "output_type": "execute_result"
    }
   ],
   "source": [
    "possible(grid, 4,4,3)"
   ]
  },
  {
   "cell_type": "code",
   "execution_count": 9,
   "metadata": {},
   "outputs": [],
   "source": [
    "\n",
    "N = 9\n",
    "def solve(grid, row, col):\n",
    "    # If we reach the 8th row and 9th column to stop backtracking\n",
    "    if row == N - 1 and col == N:\n",
    "        return True\n",
    "    \n",
    "    # Move to the next row after reaching the 9th column\n",
    "    if col == N:\n",
    "        row += 1\n",
    "        col = 0\n",
    "        \n",
    "    if grid[row][col] > 0:\n",
    "        return solve(grid, row, col + 1)\n",
    "    for num in range(1,N+1,1):\n",
    "        if possible(grid, row, col, num):\n",
    "            grid[row][col] = num\n",
    "            if solve(grid, row, col + 1):\n",
    "                return True\n",
    "        grid[row][col] = 0\n",
    "    return False\n",
    "                          "
   ]
  },
  {
   "cell_type": "code",
   "execution_count": 10,
   "metadata": {},
   "outputs": [
    {
     "name": "stdout",
     "output_type": "stream",
     "text": [
      "[[5 3 4 6 7 8 9 1 2]\n",
      " [6 7 2 1 9 5 3 4 8]\n",
      " [1 9 8 3 4 2 5 6 7]\n",
      " [8 5 9 7 6 1 4 2 3]\n",
      " [4 2 6 8 5 3 7 9 1]\n",
      " [7 1 3 9 2 4 8 5 6]\n",
      " [9 6 1 5 3 7 2 8 4]\n",
      " [2 8 7 4 1 9 6 3 5]\n",
      " [3 4 5 2 8 6 1 7 9]]\n"
     ]
    }
   ],
   "source": [
    "if (solve(grid, 0, 0)):\n",
    "    print(np.matrix(grid))\n",
    "else:\n",
    "    print(\"no solution\")"
   ]
  },
  {
   "cell_type": "code",
   "execution_count": 11,
   "metadata": {},
   "outputs": [],
   "source": [
    "grid = [[3, 0, 6, 5, 0, 8, 4, 0, 0],\n",
    "        [5, 2, 0, 0, 0, 0, 0, 0, 0],\n",
    "        [0, 8, 7, 0, 0, 0, 0, 3, 1],\n",
    "        [0, 0, 3, 0, 1, 0, 0, 8, 0],\n",
    "        [9, 0, 0, 8, 6, 3, 0, 0, 5],\n",
    "        [0, 5, 0, 0, 9, 0, 6, 0, 0],\n",
    "        [1, 3, 0, 0, 0, 0, 2, 5, 0],\n",
    "        [0, 0, 0, 0, 0, 0, 0, 7, 4],\n",
    "        [0, 0, 5, 2, 0, 6, 3, 0, 0]]"
   ]
  },
  {
   "cell_type": "code",
   "execution_count": 12,
   "metadata": {},
   "outputs": [
    {
     "name": "stdout",
     "output_type": "stream",
     "text": [
      "[[3 1 6 5 7 8 4 9 2]\n",
      " [5 2 9 1 3 4 7 6 8]\n",
      " [4 8 7 6 2 9 5 3 1]\n",
      " [2 6 3 4 1 5 9 8 7]\n",
      " [9 7 4 8 6 3 1 2 5]\n",
      " [8 5 1 7 9 2 6 4 3]\n",
      " [1 3 8 9 4 7 2 5 6]\n",
      " [6 9 2 3 5 1 8 7 4]\n",
      " [7 4 5 2 8 6 3 1 9]]\n"
     ]
    }
   ],
   "source": [
    "if (solve(grid, 0, 0)):\n",
    "    print(np.matrix(grid))\n",
    "else:\n",
    "    print(\"no solution\")"
   ]
  },
  {
   "cell_type": "markdown",
   "metadata": {},
   "source": [
    "## Better Version"
   ]
  },
  {
   "cell_type": "code",
   "execution_count": 23,
   "metadata": {},
   "outputs": [],
   "source": [
    "def is_valid(grid, row, col, k):\n",
    "    not_in_row = k not in grid[row]\n",
    "    not_in_column = k not in [grid[i][col] for i in range(9)]\n",
    "    not_in_box = k not in [grid[i][j] \n",
    "                           for i in range(row//3*3, row//3*3+3) \n",
    "                           for j in range(col//3*3, col//3*3+3)]\n",
    "    return not_in_row and not_in_column and not_in_box"
   ]
  },
  {
   "cell_type": "code",
   "execution_count": 24,
   "metadata": {},
   "outputs": [],
   "source": [
    "def solve(grid, row=0, col=0):\n",
    "    if row == 9:            # All rows have been filled\n",
    "        return True\n",
    "    elif col == 9:          # End of column, so move to first column of next row\n",
    "        return solve(grid, row+1, 0)\n",
    "    elif grid[row][col] != 0:   # Already fille, move on to next column\n",
    "        return solve(grid, row, col+1)\n",
    "    else:                       # Empty cell, start trying numbers\n",
    "        for k in range(1,10):\n",
    "            if is_valid(grid, row, col, k):\n",
    "                grid[row][col] = k  # Try k in the empty slot and move on to next column\n",
    "                if solve(grid, row, col+1):\n",
    "                    return True     # The solution worked\n",
    "                grid[row][col] = 0  # The solution didn't, so try with another number\n",
    "        return False        # Nothing worked\n",
    "                \n",
    "        "
   ]
  },
  {
   "cell_type": "code",
   "execution_count": 28,
   "metadata": {},
   "outputs": [
    {
     "name": "stdout",
     "output_type": "stream",
     "text": [
      "[[5 3 4 6 7 8 9 1 2]\n",
      " [6 7 2 1 9 5 3 4 8]\n",
      " [1 9 8 3 4 2 5 6 7]\n",
      " [8 5 9 7 6 1 4 2 3]\n",
      " [4 2 6 8 5 3 7 9 1]\n",
      " [7 1 3 9 2 4 8 5 6]\n",
      " [9 6 1 5 3 7 2 8 4]\n",
      " [2 8 7 4 1 9 6 3 5]\n",
      " [3 4 5 2 8 6 1 7 9]]\n"
     ]
    }
   ],
   "source": [
    "if solve(grid):\n",
    "    print(np.matrix(grid))\n",
    "else:\n",
    "    print(\"No solution, sorry :-(\")"
   ]
  },
  {
   "cell_type": "code",
   "execution_count": null,
   "metadata": {},
   "outputs": [],
   "source": []
  }
 ],
 "metadata": {
  "kernelspec": {
   "display_name": "base",
   "language": "python",
   "name": "python3"
  },
  "language_info": {
   "codemirror_mode": {
    "name": "ipython",
    "version": 3
   },
   "file_extension": ".py",
   "mimetype": "text/x-python",
   "name": "python",
   "nbconvert_exporter": "python",
   "pygments_lexer": "ipython3",
   "version": "3.11.5"
  }
 },
 "nbformat": 4,
 "nbformat_minor": 2
}
