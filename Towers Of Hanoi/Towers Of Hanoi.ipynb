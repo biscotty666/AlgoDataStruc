{
 "cells": [
  {
   "cell_type": "code",
   "execution_count": 31,
   "metadata": {},
   "outputs": [],
   "source": [
    "from dataclasses import dataclass\n",
    "\n",
    "@dataclass\n",
    "class Disc():\n",
    "    name: str\n",
    "    post: str\n",
    "    \n",
    "    def __str__(self):\n",
    "        return print(f'{self.name}: {self.post}')\n"
   ]
  },
  {
   "cell_type": "code",
   "execution_count": 108,
   "metadata": {},
   "outputs": [],
   "source": [
    "def move_disc(disc, posts, target):\n",
    "    disc = disc\n",
    "    orig = disc.post\n",
    "    target = target\n",
    "    disc.post = target\n",
    "    posts[target].append(disc)\n",
    "    posts[orig].pop()\n",
    "    print(f'Left: {posts[\"left\"]}\\n Middle: {posts[\"middle\"]}\\n Right: {posts[\"right\"]}\\n Trans: {posts[\"trans\"]}\\n')\n",
    "    # return posts\n"
   ]
  },
  {
   "cell_type": "code",
   "execution_count": 109,
   "metadata": {},
   "outputs": [],
   "source": [
    "d_sm = Disc(\"sm\", \"left\")\n",
    "d_md = Disc(\"md\", \"left\")\n",
    "d_lg = Disc(\"lg\", \"left\")\n",
    "posts = {\n",
    "    \"left\": [d_lg, d_md, d_sm], \n",
    "    \"middle\": [], \n",
    "    \"right\": [],\n",
    "    \"trans\": []\n",
    "    }"
   ]
  },
  {
   "cell_type": "code",
   "execution_count": 110,
   "metadata": {},
   "outputs": [
    {
     "name": "stdout",
     "output_type": "stream",
     "text": [
      "Left: [Disc(name='lg', post='left'), Disc(name='md', post='left')]\n",
      " Middle: []\n",
      " Right: [Disc(name='sm', post='right')]\n",
      " Trans: []\n",
      "\n"
     ]
    }
   ],
   "source": [
    "move_disc(d_sm, posts, \"right\")\n",
    "# print(f'Left: {posts[\"left\"]}\\n Middle: {posts[\"middle\"]}\\n Right: {posts[\"right\"]}\\n Trans: {posts[\"trans\"]}\\n')"
   ]
  },
  {
   "cell_type": "code",
   "execution_count": 111,
   "metadata": {},
   "outputs": [
    {
     "name": "stdout",
     "output_type": "stream",
     "text": [
      "Left: [Disc(name='lg', post='left')]\n",
      " Middle: []\n",
      " Right: [Disc(name='sm', post='right')]\n",
      " Trans: [Disc(name='md', post='trans')]\n",
      "\n"
     ]
    }
   ],
   "source": [
    "move_disc(d_md, posts, \"trans\")\n",
    "# print(f'Left: {posts[\"left\"]}\\n Middle: {posts[\"middle\"]}\\n Right: {posts[\"right\"]}\\n Trans: {posts[\"trans\"]}\\n')"
   ]
  },
  {
   "cell_type": "code",
   "execution_count": 112,
   "metadata": {},
   "outputs": [
    {
     "name": "stdout",
     "output_type": "stream",
     "text": [
      "Left: [Disc(name='lg', post='left')]\n",
      " Middle: []\n",
      " Right: []\n",
      " Trans: [Disc(name='md', post='trans'), Disc(name='sm', post='trans')]\n",
      "\n"
     ]
    }
   ],
   "source": [
    "move_disc(d_sm, posts, \"trans\")"
   ]
  },
  {
   "cell_type": "code",
   "execution_count": 113,
   "metadata": {},
   "outputs": [
    {
     "name": "stdout",
     "output_type": "stream",
     "text": [
      "Left: []\n",
      " Middle: []\n",
      " Right: [Disc(name='lg', post='right')]\n",
      " Trans: [Disc(name='md', post='trans'), Disc(name='sm', post='trans')]\n",
      "\n"
     ]
    }
   ],
   "source": [
    "move_disc(d_lg, posts, \"right\")"
   ]
  },
  {
   "cell_type": "code",
   "execution_count": 114,
   "metadata": {},
   "outputs": [
    {
     "name": "stdout",
     "output_type": "stream",
     "text": [
      "Left: [Disc(name='sm', post='left')]\n",
      " Middle: []\n",
      " Right: [Disc(name='lg', post='right')]\n",
      " Trans: [Disc(name='md', post='trans')]\n",
      "\n",
      "Left: [Disc(name='sm', post='left')]\n",
      " Middle: []\n",
      " Right: [Disc(name='lg', post='right'), Disc(name='md', post='right')]\n",
      " Trans: []\n",
      "\n",
      "Left: []\n",
      " Middle: []\n",
      " Right: [Disc(name='lg', post='right'), Disc(name='md', post='right'), Disc(name='sm', post='right')]\n",
      " Trans: []\n",
      "\n"
     ]
    }
   ],
   "source": [
    "move_disc(d_sm, posts, \"left\")\n",
    "move_disc(d_md, posts, \"right\")\n",
    "move_disc(d_sm, posts, \"right\")"
   ]
  },
  {
   "cell_type": "code",
   "execution_count": 131,
   "metadata": {},
   "outputs": [],
   "source": [
    "d_sm = Disc(\"sm\", \"left\")\n",
    "d_md = Disc(\"md\", \"left\")\n",
    "d_lg = Disc(\"lg\", \"left\")\n",
    "posts = {\n",
    "    \"left\": [d_lg, d_md, d_sm], \n",
    "    \"middle\": [], \n",
    "    \"right\": [],\n",
    "    \"trans\": []\n",
    "    }"
   ]
  },
  {
   "cell_type": "code",
   "execution_count": 132,
   "metadata": {},
   "outputs": [],
   "source": [
    "def move_stack(discs, posts, target):\n",
    "    d_lg = discs[0]\n",
    "    d_md = discs[1]\n",
    "    d_sm = discs[2]\n",
    "    posts = posts\n",
    "    origin = d_sm.post\n",
    "    target = target\n",
    "    \n",
    "    move_disc(d_sm, posts,  target)\n",
    "    move_disc(d_md, posts, \"trans\")\n",
    "    move_disc(d_sm, posts, \"trans\")\n",
    "    move_disc(d_lg, posts, target)\n",
    "    move_disc(d_sm, posts, origin)\n",
    "    move_disc(d_md, posts, target)\n",
    "    move_disc(d_sm, posts, target)\n"
   ]
  },
  {
   "cell_type": "code",
   "execution_count": 133,
   "metadata": {},
   "outputs": [
    {
     "name": "stdout",
     "output_type": "stream",
     "text": [
      "Left: [Disc(name='lg', post='left'), Disc(name='md', post='left')]\n",
      " Middle: []\n",
      " Right: [Disc(name='sm', post='right')]\n",
      " Trans: []\n",
      "\n",
      "Left: [Disc(name='lg', post='left')]\n",
      " Middle: []\n",
      " Right: [Disc(name='sm', post='right')]\n",
      " Trans: [Disc(name='md', post='trans')]\n",
      "\n",
      "Left: [Disc(name='lg', post='left')]\n",
      " Middle: []\n",
      " Right: []\n",
      " Trans: [Disc(name='md', post='trans'), Disc(name='sm', post='trans')]\n",
      "\n",
      "Left: []\n",
      " Middle: []\n",
      " Right: [Disc(name='lg', post='right')]\n",
      " Trans: [Disc(name='md', post='trans'), Disc(name='sm', post='trans')]\n",
      "\n",
      "Left: [Disc(name='sm', post='left')]\n",
      " Middle: []\n",
      " Right: [Disc(name='lg', post='right')]\n",
      " Trans: [Disc(name='md', post='trans')]\n",
      "\n",
      "Left: [Disc(name='sm', post='left')]\n",
      " Middle: []\n",
      " Right: [Disc(name='lg', post='right'), Disc(name='md', post='right')]\n",
      " Trans: []\n",
      "\n",
      "Left: []\n",
      " Middle: []\n",
      " Right: [Disc(name='lg', post='right'), Disc(name='md', post='right'), Disc(name='sm', post='right')]\n",
      " Trans: []\n",
      "\n"
     ]
    }
   ],
   "source": [
    "discs = [d_lg, d_md, d_sm]\n",
    "move_stack(discs, posts, \"right\")"
   ]
  },
  {
   "cell_type": "code",
   "execution_count": 134,
   "metadata": {},
   "outputs": [
    {
     "name": "stdout",
     "output_type": "stream",
     "text": [
      "Left: []\n",
      " Middle: []\n",
      " Right: [Disc(name='lg', post='right'), Disc(name='md', post='right'), Disc(name='sm', post='right')]\n",
      " Trans: []\n",
      "\n"
     ]
    }
   ],
   "source": [
    "print(f'Left: {posts[\"left\"]}\\n Middle: {posts[\"middle\"]}\\n Right: {posts[\"right\"]}\\n Trans: {posts[\"trans\"]}\\n')"
   ]
  },
  {
   "cell_type": "code",
   "execution_count": 135,
   "metadata": {},
   "outputs": [
    {
     "name": "stdout",
     "output_type": "stream",
     "text": [
      "Left: []\n",
      " Middle: [Disc(name='sm', post='middle')]\n",
      " Right: [Disc(name='lg', post='right'), Disc(name='md', post='right')]\n",
      " Trans: []\n",
      "\n",
      "Left: []\n",
      " Middle: [Disc(name='sm', post='middle')]\n",
      " Right: [Disc(name='lg', post='right')]\n",
      " Trans: [Disc(name='md', post='trans')]\n",
      "\n",
      "Left: []\n",
      " Middle: []\n",
      " Right: [Disc(name='lg', post='right')]\n",
      " Trans: [Disc(name='md', post='trans'), Disc(name='sm', post='trans')]\n",
      "\n",
      "Left: []\n",
      " Middle: [Disc(name='lg', post='middle')]\n",
      " Right: []\n",
      " Trans: [Disc(name='md', post='trans'), Disc(name='sm', post='trans')]\n",
      "\n",
      "Left: []\n",
      " Middle: [Disc(name='lg', post='middle')]\n",
      " Right: [Disc(name='sm', post='right')]\n",
      " Trans: [Disc(name='md', post='trans')]\n",
      "\n",
      "Left: []\n",
      " Middle: [Disc(name='lg', post='middle'), Disc(name='md', post='middle')]\n",
      " Right: [Disc(name='sm', post='right')]\n",
      " Trans: []\n",
      "\n",
      "Left: []\n",
      " Middle: [Disc(name='lg', post='middle'), Disc(name='md', post='middle'), Disc(name='sm', post='middle')]\n",
      " Right: []\n",
      " Trans: []\n",
      "\n",
      "Left: []\n",
      " Middle: [Disc(name='lg', post='middle'), Disc(name='md', post='middle'), Disc(name='sm', post='middle')]\n",
      " Right: []\n",
      " Trans: []\n",
      "\n"
     ]
    }
   ],
   "source": [
    "move_stack(discs, posts, \"middle\")\n",
    "print(f'Left: {posts[\"left\"]}\\n Middle: {posts[\"middle\"]}\\n Right: {posts[\"right\"]}\\n Trans: {posts[\"trans\"]}\\n')"
   ]
  },
  {
   "cell_type": "code",
   "execution_count": 136,
   "metadata": {},
   "outputs": [
    {
     "name": "stdout",
     "output_type": "stream",
     "text": [
      "Left: []\n",
      " Middle: [Disc(name='lg', post='middle'), Disc(name='md', post='middle'), Disc(name='sm', post='middle')]\n",
      " Right: []\n",
      " Trans: []\n",
      "\n"
     ]
    }
   ],
   "source": [
    "print(f'Left: {posts[\"left\"]}\\n Middle: {posts[\"middle\"]}\\n Right: {posts[\"right\"]}\\n Trans: {posts[\"trans\"]}\\n')"
   ]
  },
  {
   "cell_type": "code",
   "execution_count": 137,
   "metadata": {},
   "outputs": [
    {
     "name": "stdout",
     "output_type": "stream",
     "text": [
      "Left: [Disc(name='sm', post='left')]\n",
      " Middle: [Disc(name='lg', post='middle'), Disc(name='md', post='middle')]\n",
      " Right: []\n",
      " Trans: []\n",
      "\n",
      "Left: [Disc(name='sm', post='left')]\n",
      " Middle: [Disc(name='lg', post='middle')]\n",
      " Right: []\n",
      " Trans: [Disc(name='md', post='trans')]\n",
      "\n",
      "Left: []\n",
      " Middle: [Disc(name='lg', post='middle')]\n",
      " Right: []\n",
      " Trans: [Disc(name='md', post='trans'), Disc(name='sm', post='trans')]\n",
      "\n",
      "Left: [Disc(name='lg', post='left')]\n",
      " Middle: []\n",
      " Right: []\n",
      " Trans: [Disc(name='md', post='trans'), Disc(name='sm', post='trans')]\n",
      "\n",
      "Left: [Disc(name='lg', post='left')]\n",
      " Middle: [Disc(name='sm', post='middle')]\n",
      " Right: []\n",
      " Trans: [Disc(name='md', post='trans')]\n",
      "\n",
      "Left: [Disc(name='lg', post='left'), Disc(name='md', post='left')]\n",
      " Middle: [Disc(name='sm', post='middle')]\n",
      " Right: []\n",
      " Trans: []\n",
      "\n",
      "Left: [Disc(name='lg', post='left'), Disc(name='md', post='left'), Disc(name='sm', post='left')]\n",
      " Middle: []\n",
      " Right: []\n",
      " Trans: []\n",
      "\n"
     ]
    }
   ],
   "source": [
    "move_stack(discs, posts, \"left\")"
   ]
  },
  {
   "cell_type": "code",
   "execution_count": 138,
   "metadata": {},
   "outputs": [
    {
     "name": "stdout",
     "output_type": "stream",
     "text": [
      "Left: [Disc(name='lg', post='left'), Disc(name='md', post='left'), Disc(name='sm', post='left')]\n",
      " Middle: []\n",
      " Right: []\n",
      " Trans: []\n",
      "\n"
     ]
    }
   ],
   "source": [
    "print(f'Left: {posts[\"left\"]}\\n Middle: {posts[\"middle\"]}\\n Right: {posts[\"right\"]}\\n Trans: {posts[\"trans\"]}\\n')"
   ]
  },
  {
   "cell_type": "code",
   "execution_count": 6,
   "metadata": {},
   "outputs": [],
   "source": [
    "def pm(start, end):\n",
    "    print(start, '->', end)"
   ]
  },
  {
   "cell_type": "code",
   "execution_count": null,
   "metadata": {},
   "outputs": [],
   "source": [
    "move_disc(d_sm, posts, \"right\")\n",
    "# print(f'Left: {posts[\"left\"]}\\n Middle: {posts[\"middle\"]}\\n Right: {posts[\"right\"]}\\n Trans: {posts[\"trans\"]}\\n')"
   ]
  },
  {
   "cell_type": "code",
   "execution_count": 142,
   "metadata": {},
   "outputs": [],
   "source": [
    "def hanoi(n, start, end):\n",
    "    \"\"\"\n",
    "    Print list of steps to move n disks from start rod to end rod\n",
    "    \"\"\"\n",
    "    if n == 1:\n",
    "        pm(start, end)\n",
    "    else:\n",
    "        other = 6 - (start + end)\n",
    "        hanoi(n-1, start, other)\n",
    "        pm(start, end)\n",
    "        hanoi(n-1, other, end)"
   ]
  },
  {
   "cell_type": "code",
   "execution_count": 143,
   "metadata": {},
   "outputs": [
    {
     "name": "stdout",
     "output_type": "stream",
     "text": [
      "1 -> 2\n",
      "1 -> 3\n",
      "2 -> 3\n"
     ]
    }
   ],
   "source": [
    "hanoi(2,1,3)"
   ]
  },
  {
   "cell_type": "code",
   "execution_count": 144,
   "metadata": {},
   "outputs": [
    {
     "name": "stdout",
     "output_type": "stream",
     "text": [
      "2 -> 3\n",
      "2 -> 1\n",
      "3 -> 1\n",
      "2 -> 3\n",
      "1 -> 2\n",
      "1 -> 3\n",
      "2 -> 3\n",
      "2 -> 1\n",
      "3 -> 1\n",
      "3 -> 2\n",
      "1 -> 2\n",
      "3 -> 1\n",
      "2 -> 3\n",
      "2 -> 1\n",
      "3 -> 1\n",
      "2 -> 3\n",
      "1 -> 2\n",
      "1 -> 3\n",
      "2 -> 3\n",
      "1 -> 2\n",
      "3 -> 1\n",
      "3 -> 2\n",
      "1 -> 2\n",
      "1 -> 3\n",
      "2 -> 3\n",
      "2 -> 1\n",
      "3 -> 1\n",
      "2 -> 3\n",
      "1 -> 2\n",
      "1 -> 3\n",
      "2 -> 3\n"
     ]
    }
   ],
   "source": [
    "hanoi(5,2,3)"
   ]
  },
  {
   "cell_type": "code",
   "execution_count": 14,
   "metadata": {},
   "outputs": [
    {
     "data": {
      "text/plain": [
       "[None, None]"
      ]
     },
     "execution_count": 14,
     "metadata": {},
     "output_type": "execute_result"
    }
   ],
   "source": [
    "l_disc = 1\n",
    "n = 2\n",
    "discs = []\n",
    "[discs.append(1) for _ in range(n)]"
   ]
  },
  {
   "cell_type": "code",
   "execution_count": 15,
   "metadata": {},
   "outputs": [
    {
     "data": {
      "text/plain": [
       "[1, 1]"
      ]
     },
     "execution_count": 15,
     "metadata": {},
     "output_type": "execute_result"
    }
   ],
   "source": [
    "discs"
   ]
  },
  {
   "cell_type": "code",
   "execution_count": 4,
   "metadata": {},
   "outputs": [],
   "source": [
    "def hanoi2(n, start, end):\n",
    "    if n == 1:\n",
    "        pm(start, end)"
   ]
  },
  {
   "cell_type": "code",
   "execution_count": 5,
   "metadata": {},
   "outputs": [
    {
     "name": "stdout",
     "output_type": "stream",
     "text": [
      "1 -> 3\n"
     ]
    }
   ],
   "source": [
    "hanoi2(1,1,3)"
   ]
  },
  {
   "cell_type": "code",
   "execution_count": null,
   "metadata": {},
   "outputs": [],
   "source": [
    "def rotate_small()"
   ]
  }
 ],
 "metadata": {
  "kernelspec": {
   "display_name": "base",
   "language": "python",
   "name": "python3"
  },
  "language_info": {
   "codemirror_mode": {
    "name": "ipython",
    "version": 3
   },
   "file_extension": ".py",
   "mimetype": "text/x-python",
   "name": "python",
   "nbconvert_exporter": "python",
   "pygments_lexer": "ipython3",
   "version": "3.11.5"
  }
 },
 "nbformat": 4,
 "nbformat_minor": 2
}
