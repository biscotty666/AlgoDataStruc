{
 "cells": [
  {
   "cell_type": "markdown",
   "metadata": {},
   "source": [
    "# 1 Dimensional array\n",
    "\n",
    "[Video](https://www.youtube.com/watch?v=MLqHDsBOC4c&t=3391s)"
   ]
  },
  {
   "cell_type": "code",
   "execution_count": 4,
   "metadata": {},
   "outputs": [
    {
     "name": "stdout",
     "output_type": "stream",
     "text": [
      "How many elements to store in the array\n",
      "Enter 5 Element:\n",
      "The array elements are\n",
      "85135"
     ]
    }
   ],
   "source": [
    "print(\"How many elements to store in the array\", end=\"\")\n",
    "num = input()\n",
    "arr = []\n",
    "print(\"\\nEnter\", num, \"Element:\", end=\"\")\n",
    "num = int(num)\n",
    "for i in range(num):\n",
    "    element = input()\n",
    "    arr.append(element)\n",
    "print(\"\\nThe array elements are\")\n",
    "for i in range(num):\n",
    "    print(arr[i], end=\"\")"
   ]
  },
  {
   "cell_type": "code",
   "execution_count": null,
   "metadata": {},
   "outputs": [],
   "source": []
  }
 ],
 "metadata": {
  "kernelspec": {
   "display_name": "data",
   "language": "python",
   "name": "python3"
  },
  "language_info": {
   "codemirror_mode": {
    "name": "ipython",
    "version": 3
   },
   "file_extension": ".py",
   "mimetype": "text/x-python",
   "name": "python",
   "nbconvert_exporter": "python",
   "pygments_lexer": "ipython3",
   "version": "3.11.5"
  }
 },
 "nbformat": 4,
 "nbformat_minor": 2
}
