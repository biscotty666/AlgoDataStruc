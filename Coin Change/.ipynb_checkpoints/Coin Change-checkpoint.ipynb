{
 "cells": [
  {
   "cell_type": "markdown",
   "id": "fe6647af-5937-4193-9b82-f20edaa8baaa",
   "metadata": {},
   "source": [
    "# Coin Change"
   ]
  },
  {
   "cell_type": "markdown",
   "id": "2c1652ee-0675-4d89-969a-dafe557142f7",
   "metadata": {},
   "source": [
    "You are given an integer array $coins$ representing coins of different denominations and an integer amount representing a total $amount$ of money.\n",
    "\n",
    "Return the fewest number of coins that you need to make up that amount. If that amount of money cannot be made up by any combination of the coins, return $-1$.\n",
    "\n",
    "You may assume that you have an infinite number of each kind of coin.\n",
    "\n",
    " \n",
    "\n",
    "__Example 1__:\n",
    "```\n",
    "Input: coins = [1,2,5], amount = 11\n",
    "Output: 3\n",
    "Explanation: 11 = 5 + 5 + 1\n",
    "```\n",
    "__Example 2__:\n",
    "```\n",
    "Input: coins = [2], amount = 3\n",
    "Output: -1\n",
    "```\n",
    "__Example 3__:\n",
    "```\n",
    "Input: coins = [1], amount = 0\n",
    "Output: 0\n",
    "``` \n",
    "\n",
    "Constraints:\n",
    "\n",
    "- `1 <= coins.length <= 12`\n",
    "- `1 <= coins[i] <= 231 - 1`\n",
    "- `0 <= amount <= 104`"
   ]
  },
  {
   "cell_type": "markdown",
   "id": "39246982-f366-422e-86b6-f88d7e8b217e",
   "metadata": {},
   "source": [
    "<img src=\"CC1.png\" />\n",
    "<img src=\"CC2.png\" />\n",
    "<img src=\"CC3.png\" />"
   ]
  },
  {
   "cell_type": "code",
   "execution_count": null,
   "id": "85068ac7-e505-46e3-8ce2-5fd642a55ecb",
   "metadata": {},
   "outputs": [],
   "source": []
  }
 ],
 "metadata": {
  "kernelspec": {
   "display_name": "Python 3 (ipykernel)",
   "language": "python",
   "name": "python3"
  },
  "language_info": {
   "codemirror_mode": {
    "name": "ipython",
    "version": 3
   },
   "file_extension": ".py",
   "mimetype": "text/x-python",
   "name": "python",
   "nbconvert_exporter": "python",
   "pygments_lexer": "ipython3",
   "version": "3.12.1"
  }
 },
 "nbformat": 4,
 "nbformat_minor": 5
}
