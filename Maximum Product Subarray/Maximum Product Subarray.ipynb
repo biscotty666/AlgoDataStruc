{
 "cells": [
  {
   "cell_type": "markdown",
   "id": "638fb509-4772-4a20-a4ee-d91a3cc52584",
   "metadata": {},
   "source": [
    "# Maximum Product Subarray"
   ]
  },
  {
   "cell_type": "markdown",
   "id": "56124991-cc82-4d62-8ffb-1ad0d831fe40",
   "metadata": {},
   "source": [
    "Given an integer array $nums$, find a \n",
    "subarray that has the largest product, and return the product.\n",
    "\n",
    "The test cases are generated so that the answer will fit in a 32-bit integer.\n",
    "\n",
    " \n",
    "\n",
    "__Example 1__:\n",
    "```\n",
    "Input: nums = [2,3,-2,4]\n",
    "Output: 6\n",
    "Explanation: [2,3] has the largest product 6.\n",
    "```\n",
    "__Example 2__:\n",
    "```\n",
    "Input: nums = [-2,0,-1]\n",
    "Output: 0\n",
    "Explanation: The result cannot be 2, because [-2,-1] is not a subarray.\n",
    "```\n",
    "\n",
    "Constraints:\n",
    "\n",
    "- `1 <= nums.length <= 2 * 104`\n",
    "- `-10 <= nums[i] <= 10`\n",
    "- The product of any prefix or suffix of `nums` is guaranteed to fit in a 32-bit integer."
   ]
  },
  {
   "cell_type": "code",
   "execution_count": null,
   "id": "f63bbb19-8265-4ad0-8602-8bb2b0938a11",
   "metadata": {},
   "outputs": [],
   "source": []
  }
 ],
 "metadata": {
  "kernelspec": {
   "display_name": "Python 3 (ipykernel)",
   "language": "python",
   "name": "python3"
  },
  "language_info": {
   "codemirror_mode": {
    "name": "ipython",
    "version": 3
   },
   "file_extension": ".py",
   "mimetype": "text/x-python",
   "name": "python",
   "nbconvert_exporter": "python",
   "pygments_lexer": "ipython3",
   "version": "3.12.1"
  }
 },
 "nbformat": 4,
 "nbformat_minor": 5
}
