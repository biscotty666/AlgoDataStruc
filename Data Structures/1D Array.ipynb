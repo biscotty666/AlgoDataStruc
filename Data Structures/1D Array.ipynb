{
 "cells": [
  {
   "cell_type": "markdown",
   "metadata": {},
   "source": [
    "# 1 Dimensional array\n",
    "\n",
    "[Video](https://www.youtube.com/watch?v=MLqHDsBOC4c&t=3391s)"
   ]
  },
  {
   "cell_type": "code",
   "execution_count": 1,
   "metadata": {},
   "outputs": [
    {
     "name": "stdout",
     "output_type": "stream",
     "text": [
      "How many elements to store in the array"
     ]
    },
    {
     "name": "stdin",
     "output_type": "stream",
     "text": [
      " 5\n"
     ]
    },
    {
     "name": "stdout",
     "output_type": "stream",
     "text": [
      "\n",
      "Enter 5 Element:"
     ]
    },
    {
     "name": "stdin",
     "output_type": "stream",
     "text": [
      " 2\n",
      " 5\n",
      " 4\n",
      " 8\n",
      " 6\n"
     ]
    },
    {
     "name": "stdout",
     "output_type": "stream",
     "text": [
      "\n",
      "The array elements are\n",
      "25486"
     ]
    }
   ],
   "source": [
    "print(\"How many elements to store in the array\", end=\"\")\n",
    "num = input()\n",
    "arr = []\n",
    "print(\"\\nEnter\", num, \"Element:\", end=\"\")\n",
    "num = int(num)\n",
    "for i in range(num):\n",
    "    element = input()\n",
    "    arr.append(element)\n",
    "print(\"\\nThe array elements are\")\n",
    "for i in range(num):\n",
    "    print(arr[i], end=\"\")"
   ]
  },
  {
   "cell_type": "markdown",
   "metadata": {},
   "source": [
    "## Delete from array"
   ]
  },
  {
   "cell_type": "code",
   "execution_count": 5,
   "metadata": {},
   "outputs": [
    {
     "name": "stdout",
     "output_type": "stream",
     "text": [
      "How many elements to store: "
     ]
    },
    {
     "name": "stdin",
     "output_type": "stream",
     "text": [
      " 3\n"
     ]
    },
    {
     "name": "stdout",
     "output_type": "stream",
     "text": [
      "Enter 3 Element:"
     ]
    },
    {
     "name": "stdin",
     "output_type": "stream",
     "text": [
      " 1\n",
      " 2\n",
      " 3\n"
     ]
    },
    {
     "name": "stdout",
     "output_type": "stream",
     "text": [
      "\n",
      " The new array is: ['1', '2', '3']\n",
      "\n",
      "The value to delete is: "
     ]
    },
    {
     "name": "stdin",
     "output_type": "stream",
     "text": [
      " 2\n"
     ]
    },
    {
     "name": "stdout",
     "output_type": "stream",
     "text": [
      "\n",
      " The new array is: \n",
      "1 3 "
     ]
    }
   ],
   "source": [
    "print(\"How many elements to store: \", end=\"\")\n",
    "size = input()\n",
    "arr = []\n",
    "print(f'Enter {size} Element:', end=\"\")\n",
    "size = int(size)\n",
    "for i in range(size):\n",
    "\telement = input()\n",
    "\tarr.append(element)\n",
    "print(f\"\\n The new array is: {arr}\")\t\n",
    "print(\"\\nThe value to delete is: \", end=\"\")\n",
    "val = input()\n",
    "if val in arr:\n",
    "\tarr.remove(val)\n",
    "\tprint(\"\\n The new array is: \")\t\t\t\n",
    "\tfor i in range(size-1):\n",
    "\t\tprint(end=arr[i] + \" \")\n",
    "else:\n",
    "\tprint(\"\\nElement not in list\")"
   ]
  },
  {
   "cell_type": "markdown",
   "metadata": {},
   "source": [
    "### Sorting arrays"
   ]
  },
  {
   "cell_type": "code",
   "execution_count": null,
   "metadata": {},
   "outputs": [],
   "source": [
    "arr = [10, 22, 38, 27, 11]\n"
   ]
  }
 ],
 "metadata": {
  "kernelspec": {
   "display_name": "Python 3 (ipykernel)",
   "language": "python",
   "name": "python3"
  },
  "language_info": {
   "codemirror_mode": {
    "name": "ipython",
    "version": 3
   },
   "file_extension": ".py",
   "mimetype": "text/x-python",
   "name": "python",
   "nbconvert_exporter": "python",
   "pygments_lexer": "ipython3",
   "version": "3.11.5"
  }
 },
 "nbformat": 4,
 "nbformat_minor": 4
}
