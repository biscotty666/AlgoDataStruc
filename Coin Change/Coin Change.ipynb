{
 "cells": [
  {
   "cell_type": "markdown",
   "id": "fe6647af-5937-4193-9b82-f20edaa8baaa",
   "metadata": {},
   "source": [
    "# Coin Change"
   ]
  },
  {
   "cell_type": "markdown",
   "id": "2c1652ee-0675-4d89-969a-dafe557142f7",
   "metadata": {},
   "source": [
    "You are given an integer array $coins$ representing coins of different denominations and an integer amount representing a total $amount$ of money.\n",
    "\n",
    "Return the fewest number of coins that you need to make up that amount. If that amount of money cannot be made up by any combination of the coins, return $-1$.\n",
    "\n",
    "You may assume that you have an infinite number of each kind of coin.\n",
    "\n",
    " \n",
    "\n",
    "__Example 1__:\n",
    "```\n",
    "Input: coins = [1,2,5], amount = 11\n",
    "Output: 3\n",
    "Explanation: 11 = 5 + 5 + 1\n",
    "```\n",
    "__Example 2__:\n",
    "```\n",
    "Input: coins = [2], amount = 3\n",
    "Output: -1\n",
    "```\n",
    "__Example 3__:\n",
    "```\n",
    "Input: coins = [1], amount = 0\n",
    "Output: 0\n",
    "``` \n",
    "\n",
    "Constraints:\n",
    "\n",
    "- `1 <= coins.length <= 12`\n",
    "- `1 <= coins[i] <= 231 - 1`\n",
    "- `0 <= amount <= 104`"
   ]
  },
  {
   "cell_type": "markdown",
   "id": "39246982-f366-422e-86b6-f88d7e8b217e",
   "metadata": {},
   "source": [
    "<img src=\"CC1.png\" />\n",
    "<img src=\"CC2.png\" />\n",
    "<img src=\"CC3.png\" />"
   ]
  },
  {
   "cell_type": "code",
   "execution_count": 1,
   "id": "85068ac7-e505-46e3-8ce2-5fd642a55ecb",
   "metadata": {},
   "outputs": [],
   "source": [
    "class Solution:\n",
    "    def coinChange(self, coins: list[int], amount: int) -> int:\n",
    "        dp = [amount + 1] * (amount + 1) # amount + 1 is max value\n",
    "        dp[0] = 0\n",
    "\n",
    "        for a in range(1, amount + 1):\n",
    "            for coin in coins:\n",
    "                if a - coin >= 0:\n",
    "                    dp[a] = min(dp[a], 1 + dp[a - coin])\n",
    "\n",
    "        return dp[amount] if dp[amount] != amount + 1 else -1\n",
    "                    "
   ]
  },
  {
   "cell_type": "code",
   "execution_count": 2,
   "id": "f7f2626f-7413-455e-b915-495779527e0a",
   "metadata": {},
   "outputs": [
    {
     "data": {
      "text/plain": [
       "3"
      ]
     },
     "execution_count": 2,
     "metadata": {},
     "output_type": "execute_result"
    }
   ],
   "source": [
    "sol = Solution()\n",
    "coins = [1,2,5]\n",
    "amount = 11\n",
    "sol.coinChange(coins, amount)"
   ]
  },
  {
   "cell_type": "code",
   "execution_count": 3,
   "id": "97dcd9bb-e9bf-4fc3-8fb2-80d9f3deca16",
   "metadata": {},
   "outputs": [
    {
     "data": {
      "text/plain": [
       "-1"
      ]
     },
     "execution_count": 3,
     "metadata": {},
     "output_type": "execute_result"
    }
   ],
   "source": [
    "coins = [2]\n",
    "amount = 3\n",
    "sol.coinChange(coins, amount)"
   ]
  },
  {
   "cell_type": "code",
   "execution_count": 4,
   "id": "c70b1586-77e7-4019-ae98-b258b16db218",
   "metadata": {},
   "outputs": [
    {
     "data": {
      "text/plain": [
       "0"
      ]
     },
     "execution_count": 4,
     "metadata": {},
     "output_type": "execute_result"
    }
   ],
   "source": [
    "coins = [2]\n",
    "amount = 0\n",
    "sol.coinChange(coins, amount)"
   ]
  },
  {
   "cell_type": "code",
   "execution_count": null,
   "id": "19694632-888c-4e4c-9259-fe77bc19163c",
   "metadata": {},
   "outputs": [],
   "source": []
  }
 ],
 "metadata": {
  "kernelspec": {
   "display_name": "Python 3 (ipykernel)",
   "language": "python",
   "name": "python3"
  },
  "language_info": {
   "codemirror_mode": {
    "name": "ipython",
    "version": 3
   },
   "file_extension": ".py",
   "mimetype": "text/x-python",
   "name": "python",
   "nbconvert_exporter": "python",
   "pygments_lexer": "ipython3",
   "version": "3.12.1"
  }
 },
 "nbformat": 4,
 "nbformat_minor": 5
}
