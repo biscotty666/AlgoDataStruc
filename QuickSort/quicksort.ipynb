{
 "cells": [
  {
   "cell_type": "markdown",
   "metadata": {},
   "source": [
    "# Quicksort Algorithm\n",
    "\n",
    "Recursive sorting algorithm.\n",
    "\n",
    "Executes in O($n^2$) worst case and O($n\\ logn$)\n",
    "\n",
    "Luomoto partition scheme chooses the last element as a pivot. The original Hoare partition chooses the initial position as pivot."
   ]
  },
  {
   "cell_type": "code",
   "execution_count": 6,
   "metadata": {},
   "outputs": [],
   "source": [
    "def quicksort(data: list, left: int, right: int) -> list:\n",
    "    \"\"\"Quick sort algorithm\n",
    "    \n",
    "    An algorithm for sorting arrays. Worst case runs in O(n^2), more often O(n log(n))\n",
    "    Execution time depends on the initial pivot.\n",
    "    \n",
    "    \n",
    "    Source: https://www.youtube.com/watch?v=9KBwdDEwal8\n",
    "\n",
    "    Args:\n",
    "        data (list): The array to be sorted\n",
    "        left (int): Left index - must be supplied because this will be called recursively\n",
    "        right (int): Right index - must be supplied because this will be called recursively\n",
    "\n",
    "    Returns:\n",
    "        list: _description_\n",
    "    \"\"\"\n",
    "\n",
    "    if left < right:\n",
    "        part_pos = partition(data, left, right)\n",
    "        quicksort(data, left, part_pos - 1)\n",
    "        quicksort(data, part_pos + 1, right)\n",
    "        \n",
    "    return data\n",
    "        \n",
    "def partition(data: list, left: int, right: int) -> int:\n",
    "    \"\"\"Helper function for quicksort()\n",
    "    \n",
    "    This does most of the work.\n",
    "    \n",
    "    At each invocation, the last element is selected as the pivot position. i is incremented until finding\n",
    "    a value greater than the pivot value. At this point j is decremented until finding a value less than\n",
    "    the pivot or it moves past i. When the two conditions are met, the values of i and j are swapped.\n",
    "    \n",
    "    If the value at i is greater than the value of the pivot, swap i with the last element.\n",
    "    \n",
    "    Return i for the new partition position\n",
    "\n",
    "    Args:\n",
    "        data (list): The array to be sorted\n",
    "        left (int): The index of the left position\n",
    "        right (int): The index of the right position\n",
    "\n",
    "    Returns:\n",
    "        int: The new index for the next recursive call\n",
    "    \"\"\"\n",
    "    pivot = data[right]\n",
    "    i = left\n",
    "    j = right\n",
    "    \n",
    "    while i < j:\n",
    "        while data[i] < pivot and i < right:\n",
    "            i += 1\n",
    "        while data[j] >= pivot and j > left:\n",
    "            j -= 1\n",
    "        if i < j:\n",
    "            data[i], data[j] = data[j], data[i]\n",
    "            \n",
    "    if data[i] > pivot:\n",
    "        data[i], data[right] = data[right], data[i]\n",
    "    \n",
    "    return i"
   ]
  },
  {
   "cell_type": "code",
   "execution_count": 7,
   "metadata": {},
   "outputs": [
    {
     "data": {
      "text/plain": [
       "[11, 22, 33, 44, 55, 66, 77, 88]"
      ]
     },
     "execution_count": 7,
     "metadata": {},
     "output_type": "execute_result"
    }
   ],
   "source": [
    "data = [22, 11, 88, 66, 55, 77, 33, 44]\n",
    "quicksort(data, 0, len(data) - 1)"
   ]
  },
  {
   "cell_type": "code",
   "execution_count": null,
   "metadata": {},
   "outputs": [],
   "source": []
  },
  {
   "cell_type": "code",
   "execution_count": null,
   "metadata": {},
   "outputs": [],
   "source": []
  },
  {
   "cell_type": "code",
   "execution_count": null,
   "metadata": {},
   "outputs": [],
   "source": []
  },
  {
   "cell_type": "code",
   "execution_count": null,
   "metadata": {},
   "outputs": [],
   "source": []
  },
  {
   "cell_type": "code",
   "execution_count": null,
   "metadata": {},
   "outputs": [],
   "source": []
  },
  {
   "cell_type": "code",
   "execution_count": null,
   "metadata": {},
   "outputs": [],
   "source": []
  }
 ],
 "metadata": {
  "kernelspec": {
   "display_name": "base",
   "language": "python",
   "name": "python3"
  },
  "language_info": {
   "codemirror_mode": {
    "name": "ipython",
    "version": 3
   },
   "file_extension": ".py",
   "mimetype": "text/x-python",
   "name": "python",
   "nbconvert_exporter": "python",
   "pygments_lexer": "ipython3",
   "version": "3.11.5"
  }
 },
 "nbformat": 4,
 "nbformat_minor": 2
}
