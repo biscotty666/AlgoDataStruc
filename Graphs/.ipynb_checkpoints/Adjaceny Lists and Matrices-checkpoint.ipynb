{
 "cells": [
  {
   "cell_type": "markdown",
   "metadata": {},
   "source": [
    "# Adjacency Lists and Matrices\n",
    "\n",
    "[Source](https://www.youtube.com/watch?v=ukFNELi_U88&list=PLLIPpKeh9v3ZFEHvNd5xqUrCkqLgXnekL&index=3)"
   ]
  },
  {
   "cell_type": "markdown",
   "metadata": {},
   "source": [
    "G = (V, E)\n",
    "\n",
    "Rather than creating a class for the graphe, we can use Python's `namedtuple`"
   ]
  },
  {
   "cell_type": "markdown",
   "metadata": {},
   "source": [
    "<img src=\"KB3.png\" />"
   ]
  },
  {
   "cell_type": "markdown",
   "metadata": {},
   "source": [
    "## Undirected"
   ]
  },
  {
   "cell_type": "code",
   "execution_count": 5,
   "metadata": {},
   "outputs": [],
   "source": [
    "from collections import namedtuple\n",
    "\n",
    "Graph = namedtuple(\"Graph\", [\"nodes\", \"edges\"])"
   ]
  },
  {
   "cell_type": "code",
   "execution_count": 6,
   "metadata": {},
   "outputs": [],
   "source": [
    "nodes = [\"A\", \"B\", \"C\", \"D\"]\n",
    "edges = [\n",
    "    (\"A\", \"B\"),\n",
    "    (\"A\", \"B\"),\n",
    "    (\"A\", \"C\"),\n",
    "    (\"A\", \"C\"),\n",
    "    (\"A\", \"D\"),\n",
    "    (\"B\", \"D\"),\n",
    "    (\"C\", \"D\"),\n",
    "]"
   ]
  },
  {
   "cell_type": "code",
   "execution_count": 7,
   "metadata": {},
   "outputs": [],
   "source": [
    "G = Graph(nodes, edges)"
   ]
  },
  {
   "cell_type": "code",
   "execution_count": 8,
   "metadata": {},
   "outputs": [
    {
     "data": {
      "text/plain": [
       "Graph(nodes=['A', 'B', 'C', 'D'], edges=[('A', 'B'), ('A', 'B'), ('A', 'C'), ('A', 'C'), ('A', 'D'), ('B', 'D'), ('C', 'D')])"
      ]
     },
     "execution_count": 8,
     "metadata": {},
     "output_type": "execute_result"
    }
   ],
   "source": [
    "G"
   ]
  },
  {
   "cell_type": "markdown",
   "metadata": {},
   "source": [
    "## Create an adjacency list from the Graph object\n",
    "\n",
    "<img src=\"AdjList.png\" />"
   ]
  },
  {
   "cell_type": "code",
   "execution_count": 9,
   "metadata": {},
   "outputs": [],
   "source": [
    "def adjacency_dict(graph: namedtuple) -> dict:\n",
    "    \"\"\"Returns an adjacency list as a dictionary\n",
    "\n",
    "    Args:\n",
    "        graph (namedtuple): A Graph object namedtuple(\"Graph\", [\"nodes\", \"edges\"])\n",
    "\n",
    "    Returns:\n",
    "        dict: The dictionary representing the list\n",
    "    \"\"\"\n",
    "    adj = {node: [] for node in graph.nodes}\n",
    "    for edge in graph.edges:\n",
    "        node1, node2 = edge[0], edge[1]\n",
    "        adj[node1].append(node2)\n",
    "        adj[node2].append(node1)\n",
    "    return adj"
   ]
  },
  {
   "cell_type": "code",
   "execution_count": 10,
   "metadata": {},
   "outputs": [
    {
     "data": {
      "text/plain": [
       "{'A': ['B', 'B', 'C', 'C', 'D'],\n",
       " 'B': ['A', 'A', 'D'],\n",
       " 'C': ['A', 'A', 'D'],\n",
       " 'D': ['A', 'B', 'C']}"
      ]
     },
     "execution_count": 10,
     "metadata": {},
     "output_type": "execute_result"
    }
   ],
   "source": [
    "adjacency_dict(G)"
   ]
  },
  {
   "cell_type": "markdown",
   "metadata": {},
   "source": [
    "## Adjacancy Matrix\n",
    "\n",
    "<img src=\"AdjMatrix.png\" />"
   ]
  },
  {
   "cell_type": "code",
   "execution_count": 11,
   "metadata": {},
   "outputs": [],
   "source": [
    "from typing import NamedTuple\n",
    "\n",
    "def adjacency_matrix(graph: NamedTuple) -> list[list[int]]:\n",
    "    \"\"\"A square matrix with a row and column for each node\n",
    "\n",
    "    Args:\n",
    "        graph (namedtuple): Graph Object namedtuple(\"Graph\", [\"nodes\", \"edges\"])\n",
    "\n",
    "    Returns:\n",
    "        list[list[int]]: A nested list of lists of integers\n",
    "        \n",
    "    Assumes the nodes are integers in range(len(graph.nodes))\n",
    "    \"\"\"\n",
    "    adj = [[0 for node in G.nodes] for node in G.nodes]\n",
    "    for edge in graph.edges:\n",
    "        node1, node2 = edge[0], edge[1]\n",
    "        adj[node1][node2] += 1\n",
    "        adj[node2][node1] += 1\n",
    "    return adj"
   ]
  },
  {
   "cell_type": "code",
   "execution_count": 13,
   "metadata": {},
   "outputs": [],
   "source": [
    "nodes = range(4)\n",
    "edges = [\n",
    "    (0, 1),\n",
    "    (0, 1),\n",
    "    (0, 2),\n",
    "    (0, 2),\n",
    "    (0, 3),\n",
    "    (1, 3),\n",
    "    (2, 3),\n",
    "]"
   ]
  },
  {
   "cell_type": "code",
   "execution_count": 14,
   "metadata": {},
   "outputs": [],
   "source": [
    "G = Graph(nodes, edges)"
   ]
  },
  {
   "cell_type": "code",
   "execution_count": 15,
   "metadata": {},
   "outputs": [
    {
     "data": {
      "text/plain": [
       "[[0, 2, 2, 1], [2, 0, 0, 1], [2, 0, 0, 1], [1, 1, 1, 0]]"
      ]
     },
     "execution_count": 15,
     "metadata": {},
     "output_type": "execute_result"
    }
   ],
   "source": [
    "adjacency_matrix(G)"
   ]
  },
  {
   "cell_type": "markdown",
   "metadata": {},
   "source": [
    "## Directed"
   ]
  },
  {
   "cell_type": "code",
   "execution_count": 16,
   "metadata": {},
   "outputs": [],
   "source": [
    "Graph = namedtuple(\"Graph\", [\"nodes\", \"edges\", \"is_directed\"])"
   ]
  },
  {
   "cell_type": "code",
   "execution_count": 17,
   "metadata": {},
   "outputs": [],
   "source": [
    "def adjacency_dict(graph: namedtuple) -> dict:\n",
    "    \"\"\"Returns an adjacency list as a dictionary\n",
    "\n",
    "    Args:\n",
    "        graph (namedtuple): A Graph object namedtuple(\"Graph\", [\"nodes\", \"edges\", \"is_directed\"])\n",
    "\n",
    "    Returns:\n",
    "        dict: The dictionary representing the list\n",
    "    \"\"\"\n",
    "    adj = {node: [] for node in graph.nodes}\n",
    "    for edge in graph.edges:\n",
    "        node1, node2 = edge[0], edge[1]\n",
    "        adj[node1].append(node2)\n",
    "        if not graph.is_directed:\n",
    "            adj[node2].append(node1)\n",
    "    return adj"
   ]
  },
  {
   "cell_type": "code",
   "execution_count": 18,
   "metadata": {},
   "outputs": [],
   "source": [
    "def adjacency_matrix(graph: NamedTuple) -> list[list[int]]:\n",
    "    \"\"\"A square matrix with a row and column for each node\n",
    "\n",
    "    Args:\n",
    "        graph (namedtuple): Graph Object namedtuple(\"Graph\", [\"nodes\", \"edges\", \"is_directed\"])\n",
    "\n",
    "    Returns:\n",
    "        list[list[int]]: A nested list of lists of integers\n",
    "        \n",
    "    Assumes the nodes are integers in range(len(graph.nodes))\n",
    "    \"\"\"\n",
    "    adj = [[0 for node in G.nodes] for node in G.nodes]\n",
    "    for edge in graph.edges:\n",
    "        node1, node2 = edge[0], edge[1]\n",
    "        adj[node1][node2] += 1\n",
    "        if not graph.is_directed:\n",
    "            adj[node2][node1] += 1\n",
    "    return adj"
   ]
  },
  {
   "cell_type": "code",
   "execution_count": 20,
   "metadata": {},
   "outputs": [],
   "source": [
    "G = Graph(nodes, edges, True)"
   ]
  },
  {
   "cell_type": "code",
   "execution_count": 21,
   "metadata": {},
   "outputs": [
    {
     "data": {
      "text/plain": [
       "{0: [1, 1, 2, 2, 3], 1: [3], 2: [3], 3: []}"
      ]
     },
     "execution_count": 21,
     "metadata": {},
     "output_type": "execute_result"
    }
   ],
   "source": [
    "adjacency_dict(G)"
   ]
  },
  {
   "cell_type": "code",
   "execution_count": 22,
   "metadata": {},
   "outputs": [
    {
     "data": {
      "text/plain": [
       "[[0, 2, 2, 1], [0, 0, 0, 1], [0, 0, 0, 1], [0, 0, 0, 0]]"
      ]
     },
     "execution_count": 22,
     "metadata": {},
     "output_type": "execute_result"
    }
   ],
   "source": [
    "adjacency_matrix(G)"
   ]
  },
  {
   "cell_type": "markdown",
   "metadata": {},
   "source": [
    "<img src=\"AdjTest.png\" />"
   ]
  },
  {
   "cell_type": "code",
   "execution_count": 23,
   "metadata": {},
   "outputs": [],
   "source": [
    "G = Graph(nodes=range(3), edges=[(1,0),(1,2),(0,2)], is_directed=False)"
   ]
  },
  {
   "cell_type": "code",
   "execution_count": 24,
   "metadata": {},
   "outputs": [
    {
     "data": {
      "text/plain": [
       "{0: [1, 2], 1: [0, 2], 2: [1, 0]}"
      ]
     },
     "execution_count": 24,
     "metadata": {},
     "output_type": "execute_result"
    }
   ],
   "source": [
    "adjacency_dict(G)"
   ]
  },
  {
   "cell_type": "code",
   "execution_count": 25,
   "metadata": {},
   "outputs": [
    {
     "data": {
      "text/plain": [
       "[[0, 1, 1], [1, 0, 1], [1, 1, 0]]"
      ]
     },
     "execution_count": 25,
     "metadata": {},
     "output_type": "execute_result"
    }
   ],
   "source": [
    "adjacency_matrix(G)"
   ]
  },
  {
   "cell_type": "code",
   "execution_count": null,
   "metadata": {},
   "outputs": [],
   "source": []
  }
 ],
 "metadata": {
  "kernelspec": {
   "display_name": "pyvis",
   "language": "python",
   "name": "python3"
  },
  "language_info": {
   "codemirror_mode": {
    "name": "ipython",
    "version": 3
   },
   "file_extension": ".py",
   "mimetype": "text/x-python",
   "name": "python",
   "nbconvert_exporter": "python",
   "pygments_lexer": "ipython3",
   "version": "3.11.5"
  }
 },
 "nbformat": 4,
 "nbformat_minor": 2
}
